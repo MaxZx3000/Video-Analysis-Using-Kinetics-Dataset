{
  "nbformat": 4,
  "nbformat_minor": 0,
  "metadata": {
    "colab": {
      "provenance": [],
      "collapsed_sections": [
        "bBiXiaC49tT7"
      ]
    },
    "kernelspec": {
      "name": "python3",
      "display_name": "Python 3"
    },
    "language_info": {
      "name": "python"
    }
  },
  "cells": [
    {
      "cell_type": "markdown",
      "source": [
        "# Video Classification Deep Learning using Pytorch"
      ],
      "metadata": {
        "id": "VU02tkxxs9HV"
      }
    },
    {
      "cell_type": "code",
      "source": [
        "! pip install yt-dlp==2023.03.04"
      ],
      "metadata": {
        "colab": {
          "base_uri": "https://localhost:8080/"
        },
        "id": "1NIHPXSITp3V",
        "outputId": "2ab04a97-3b69-4a58-f2fb-ea923512ad6c"
      },
      "execution_count": 1,
      "outputs": [
        {
          "output_type": "stream",
          "name": "stdout",
          "text": [
            "Looking in indexes: https://pypi.org/simple, https://us-python.pkg.dev/colab-wheels/public/simple/\n",
            "Collecting yt-dlp==2023.03.04\n",
            "  Downloading yt_dlp-2023.3.4-py2.py3-none-any.whl (2.9 MB)\n",
            "\u001b[2K     \u001b[90m━━━━━━━━━━━━━━━━━━━━━━━━━━━━━━━━━━━━━━━━\u001b[0m \u001b[32m2.9/2.9 MB\u001b[0m \u001b[31m25.6 MB/s\u001b[0m eta \u001b[36m0:00:00\u001b[0m\n",
            "\u001b[?25hCollecting websockets\n",
            "  Downloading websockets-11.0.1-cp39-cp39-manylinux_2_5_x86_64.manylinux1_x86_64.manylinux_2_17_x86_64.manylinux2014_x86_64.whl (129 kB)\n",
            "\u001b[2K     \u001b[90m━━━━━━━━━━━━━━━━━━━━━━━━━━━━━━━━━━━━━━━\u001b[0m \u001b[32m129.5/129.5 kB\u001b[0m \u001b[31m4.9 MB/s\u001b[0m eta \u001b[36m0:00:00\u001b[0m\n",
            "\u001b[?25hCollecting brotli\n",
            "  Downloading Brotli-1.0.9-cp39-cp39-manylinux1_x86_64.whl (357 kB)\n",
            "\u001b[2K     \u001b[90m━━━━━━━━━━━━━━━━━━━━━━━━━━━━━━━━━━━━━━\u001b[0m \u001b[32m357.2/357.2 kB\u001b[0m \u001b[31m19.2 MB/s\u001b[0m eta \u001b[36m0:00:00\u001b[0m\n",
            "\u001b[?25hCollecting mutagen\n",
            "  Downloading mutagen-1.46.0-py3-none-any.whl (193 kB)\n",
            "\u001b[2K     \u001b[90m━━━━━━━━━━━━━━━━━━━━━━━━━━━━━━━━━━━━━━━\u001b[0m \u001b[32m193.6/193.6 kB\u001b[0m \u001b[31m4.1 MB/s\u001b[0m eta \u001b[36m0:00:00\u001b[0m\n",
            "\u001b[?25hCollecting pycryptodomex\n",
            "  Downloading pycryptodomex-3.17-cp35-abi3-manylinux_2_17_x86_64.manylinux2014_x86_64.whl (2.1 MB)\n",
            "\u001b[2K     \u001b[90m━━━━━━━━━━━━━━━━━━━━━━━━━━━━━━━━━━━━━━━━\u001b[0m \u001b[32m2.1/2.1 MB\u001b[0m \u001b[31m41.2 MB/s\u001b[0m eta \u001b[36m0:00:00\u001b[0m\n",
            "\u001b[?25hRequirement already satisfied: certifi in /usr/local/lib/python3.9/dist-packages (from yt-dlp==2023.03.04) (2022.12.7)\n",
            "Installing collected packages: brotli, websockets, pycryptodomex, mutagen, yt-dlp\n",
            "Successfully installed brotli-1.0.9 mutagen-1.46.0 pycryptodomex-3.17 websockets-11.0.1 yt-dlp-2023.3.4\n"
          ]
        }
      ]
    },
    {
      "cell_type": "markdown",
      "source": [
        "See Library Versions"
      ],
      "metadata": {
        "id": "tOnlX4vxQJmY"
      }
    },
    {
      "cell_type": "code",
      "source": [
        "! pip list"
      ],
      "metadata": {
        "colab": {
          "base_uri": "https://localhost:8080/"
        },
        "id": "MwW_yfhtQLQT",
        "outputId": "5e895641-70e1-4bdd-dbed-5121675e8148"
      },
      "execution_count": 2,
      "outputs": [
        {
          "output_type": "stream",
          "name": "stdout",
          "text": [
            "Package                       Version\n",
            "----------------------------- --------------------\n",
            "absl-py                       1.4.0\n",
            "alabaster                     0.7.13\n",
            "albumentations                1.2.1\n",
            "altair                        4.2.2\n",
            "anyio                         3.6.2\n",
            "appdirs                       1.4.4\n",
            "argon2-cffi                   21.3.0\n",
            "argon2-cffi-bindings          21.2.0\n",
            "arviz                         0.15.1\n",
            "astropy                       5.2.2\n",
            "astunparse                    1.6.3\n",
            "attrs                         22.2.0\n",
            "audioread                     3.0.0\n",
            "autograd                      1.5\n",
            "Babel                         2.12.1\n",
            "backcall                      0.2.0\n",
            "beautifulsoup4                4.11.2\n",
            "bleach                        6.0.0\n",
            "blis                          0.7.9\n",
            "blosc2                        2.0.0\n",
            "bokeh                         2.4.3\n",
            "branca                        0.6.0\n",
            "Brotli                        1.0.9\n",
            "CacheControl                  0.12.11\n",
            "cached-property               1.5.2\n",
            "cachetools                    5.3.0\n",
            "catalogue                     2.0.8\n",
            "certifi                       2022.12.7\n",
            "cffi                          1.15.1\n",
            "chardet                       4.0.0\n",
            "charset-normalizer            2.0.12\n",
            "chex                          0.1.7\n",
            "click                         8.1.3\n",
            "cloudpickle                   2.2.1\n",
            "cmake                         3.25.2\n",
            "cmdstanpy                     1.1.0\n",
            "colorcet                      3.0.1\n",
            "colorlover                    0.3.0\n",
            "community                     1.0.0b1\n",
            "confection                    0.0.4\n",
            "cons                          0.4.5\n",
            "contextlib2                   0.6.0.post1\n",
            "contourpy                     1.0.7\n",
            "convertdate                   2.4.0\n",
            "cryptography                  40.0.1\n",
            "cufflinks                     0.17.3\n",
            "cvxopt                        1.3.0\n",
            "cvxpy                         1.3.1\n",
            "cycler                        0.11.0\n",
            "cymem                         2.0.7\n",
            "Cython                        0.29.34\n",
            "dask                          2022.12.1\n",
            "datascience                   0.17.6\n",
            "db-dtypes                     1.1.1\n",
            "dbus-python                   1.2.16\n",
            "debugpy                       1.6.6\n",
            "decorator                     4.4.2\n",
            "defusedxml                    0.7.1\n",
            "distributed                   2022.12.1\n",
            "dlib                          19.24.1\n",
            "dm-tree                       0.1.8\n",
            "docutils                      0.16\n",
            "dopamine-rl                   4.0.6\n",
            "earthengine-api               0.1.348\n",
            "easydict                      1.10\n",
            "ecos                          2.0.12\n",
            "editdistance                  0.6.2\n",
            "en-core-web-sm                3.5.0\n",
            "entrypoints                   0.4\n",
            "ephem                         4.1.4\n",
            "et-xmlfile                    1.1.0\n",
            "etils                         1.2.0\n",
            "etuples                       0.3.8\n",
            "exceptiongroup                1.1.1\n",
            "fastai                        2.7.12\n",
            "fastcore                      1.5.29\n",
            "fastdownload                  0.0.7\n",
            "fastjsonschema                2.16.3\n",
            "fastprogress                  1.0.3\n",
            "fastrlock                     0.8.1\n",
            "filelock                      3.11.0\n",
            "firebase-admin                5.3.0\n",
            "Flask                         2.2.3\n",
            "flatbuffers                   23.3.3\n",
            "flax                          0.6.8\n",
            "folium                        0.14.0\n",
            "fonttools                     4.39.3\n",
            "frozendict                    2.3.6\n",
            "fsspec                        2023.3.0\n",
            "future                        0.18.3\n",
            "gast                          0.4.0\n",
            "GDAL                          3.3.2\n",
            "gdown                         4.6.6\n",
            "gensim                        4.3.1\n",
            "geographiclib                 2.0\n",
            "geopy                         2.3.0\n",
            "gin-config                    0.5.0\n",
            "glob2                         0.7\n",
            "google                        2.0.3\n",
            "google-api-core               2.11.0\n",
            "google-api-python-client      2.84.0\n",
            "google-auth                   2.17.2\n",
            "google-auth-httplib2          0.1.0\n",
            "google-auth-oauthlib          1.0.0\n",
            "google-cloud-bigquery         3.9.0\n",
            "google-cloud-bigquery-storage 2.19.1\n",
            "google-cloud-core             2.3.2\n",
            "google-cloud-datastore        2.15.1\n",
            "google-cloud-firestore        2.11.0\n",
            "google-cloud-language         2.9.1\n",
            "google-cloud-storage          2.8.0\n",
            "google-cloud-translate        3.11.1\n",
            "google-colab                  1.0.0\n",
            "google-crc32c                 1.5.0\n",
            "google-pasta                  0.2.0\n",
            "google-resumable-media        2.4.1\n",
            "googleapis-common-protos      1.59.0\n",
            "googledrivedownloader         0.4\n",
            "graphviz                      0.20.1\n",
            "greenlet                      2.0.2\n",
            "grpcio                        1.53.0\n",
            "grpcio-status                 1.48.2\n",
            "gspread                       3.4.2\n",
            "gspread-dataframe             3.0.8\n",
            "gym                           0.25.2\n",
            "gym-notices                   0.0.8\n",
            "h5netcdf                      1.1.0\n",
            "h5py                          3.8.0\n",
            "HeapDict                      1.0.1\n",
            "hijri-converter               2.2.4\n",
            "holidays                      0.22\n",
            "holoviews                     1.15.4\n",
            "html5lib                      1.1\n",
            "httpimport                    1.3.0\n",
            "httplib2                      0.21.0\n",
            "humanize                      4.6.0\n",
            "hyperopt                      0.2.7\n",
            "idna                          3.4\n",
            "imageio                       2.25.1\n",
            "imageio-ffmpeg                0.4.8\n",
            "imagesize                     1.4.1\n",
            "imbalanced-learn              0.10.1\n",
            "imgaug                        0.4.0\n",
            "importlib-metadata            6.2.0\n",
            "importlib-resources           5.12.0\n",
            "imutils                       0.5.4\n",
            "inflect                       6.0.4\n",
            "iniconfig                     2.0.0\n",
            "intel-openmp                  2023.1.0\n",
            "ipykernel                     5.5.6\n",
            "ipython                       7.34.0\n",
            "ipython-genutils              0.2.0\n",
            "ipython-sql                   0.4.1\n",
            "ipywidgets                    7.7.1\n",
            "itsdangerous                  2.1.2\n",
            "jax                           0.4.7\n",
            "jaxlib                        0.4.7+cuda11.cudnn86\n",
            "jieba                         0.42.1\n",
            "Jinja2                        3.1.2\n",
            "joblib                        1.2.0\n",
            "jsonpickle                    3.0.1\n",
            "jsonschema                    4.3.3\n",
            "jupyter-client                6.1.12\n",
            "jupyter-console               6.1.0\n",
            "jupyter_core                  5.3.0\n",
            "jupyter-server                1.23.6\n",
            "jupyterlab-pygments           0.2.2\n",
            "jupyterlab-widgets            3.0.7\n",
            "kaggle                        1.5.13\n",
            "keras                         2.12.0\n",
            "keras-vis                     0.4.1\n",
            "kiwisolver                    1.4.4\n",
            "korean-lunar-calendar         0.3.1\n",
            "langcodes                     3.3.0\n",
            "lazy_loader                   0.2\n",
            "libclang                      16.0.0\n",
            "librosa                       0.10.0.post2\n",
            "lightgbm                      3.3.5\n",
            "lit                           16.0.0\n",
            "llvmlite                      0.39.1\n",
            "locket                        1.0.0\n",
            "logical-unification           0.4.5\n",
            "LunarCalendar                 0.0.9\n",
            "lxml                          4.9.2\n",
            "Markdown                      3.4.3\n",
            "markdown-it-py                2.2.0\n",
            "MarkupSafe                    2.1.2\n",
            "matplotlib                    3.7.1\n",
            "matplotlib-inline             0.1.6\n",
            "matplotlib-venn               0.11.9\n",
            "mdurl                         0.1.2\n",
            "miniKanren                    1.0.3\n",
            "missingno                     0.5.2\n",
            "mistune                       0.8.4\n",
            "mizani                        0.8.1\n",
            "mkl                           2019.0\n",
            "ml-dtypes                     0.0.4\n",
            "mlxtend                       0.14.0\n",
            "more-itertools                9.1.0\n",
            "moviepy                       1.0.3\n",
            "mpmath                        1.3.0\n",
            "msgpack                       1.0.5\n",
            "multipledispatch              0.6.0\n",
            "multitasking                  0.0.11\n",
            "murmurhash                    1.0.9\n",
            "music21                       8.1.0\n",
            "mutagen                       1.46.0\n",
            "natsort                       8.3.1\n",
            "nbclient                      0.7.3\n",
            "nbconvert                     6.5.4\n",
            "nbformat                      5.8.0\n",
            "nest-asyncio                  1.5.6\n",
            "networkx                      3.1\n",
            "nibabel                       3.0.2\n",
            "nltk                          3.8.1\n",
            "notebook                      6.4.8\n",
            "numba                         0.56.4\n",
            "numexpr                       2.8.4\n",
            "numpy                         1.22.4\n",
            "oauth2client                  4.1.3\n",
            "oauthlib                      3.2.2\n",
            "opencv-contrib-python         4.7.0.72\n",
            "opencv-python                 4.7.0.72\n",
            "opencv-python-headless        4.7.0.72\n",
            "openpyxl                      3.0.10\n",
            "opt-einsum                    3.3.0\n",
            "optax                         0.1.4\n",
            "orbax                         0.1.7\n",
            "osqp                          0.6.2.post0\n",
            "packaging                     23.0\n",
            "palettable                    3.3.1\n",
            "pandas                        1.5.3\n",
            "pandas-datareader             0.10.0\n",
            "pandas-gbq                    0.17.9\n",
            "pandocfilters                 1.5.0\n",
            "panel                         0.14.4\n",
            "param                         1.13.0\n",
            "parso                         0.8.3\n",
            "partd                         1.3.0\n",
            "pathlib                       1.0.1\n",
            "pathy                         0.10.1\n",
            "patsy                         0.5.3\n",
            "pep517                        0.13.0\n",
            "pexpect                       4.8.0\n",
            "pickleshare                   0.7.5\n",
            "Pillow                        8.4.0\n",
            "pip                           23.0.1\n",
            "pip-tools                     6.6.2\n",
            "platformdirs                  3.2.0\n",
            "plotly                        5.13.1\n",
            "plotnine                      0.10.1\n",
            "pluggy                        1.0.0\n",
            "pooch                         1.6.0\n",
            "portpicker                    1.3.9\n",
            "prefetch-generator            1.0.3\n",
            "preshed                       3.0.8\n",
            "prettytable                   0.7.2\n",
            "proglog                       0.1.10\n",
            "progressbar2                  4.2.0\n",
            "prometheus-client             0.16.0\n",
            "promise                       2.3\n",
            "prompt-toolkit                3.0.38\n",
            "prophet                       1.1.2\n",
            "proto-plus                    1.22.2\n",
            "protobuf                      3.20.3\n",
            "psutil                        5.9.4\n",
            "psycopg2                      2.9.6\n",
            "ptyprocess                    0.7.0\n",
            "py-cpuinfo                    9.0.0\n",
            "py4j                          0.10.9.7\n",
            "pyarrow                       9.0.0\n",
            "pyasn1                        0.4.8\n",
            "pyasn1-modules                0.2.8\n",
            "pycocotools                   2.0.6\n",
            "pycparser                     2.21\n",
            "pycryptodomex                 3.17\n",
            "pyct                          0.5.0\n",
            "pydantic                      1.10.7\n",
            "pydata-google-auth            1.7.0\n",
            "pydot                         1.4.2\n",
            "pydot-ng                      2.0.0\n",
            "pydotplus                     2.0.2\n",
            "PyDrive                       1.3.1\n",
            "pyerfa                        2.0.0.3\n",
            "pygame                        2.3.0\n",
            "Pygments                      2.14.0\n",
            "PyGObject                     3.36.0\n",
            "pymc                          5.1.2\n",
            "PyMeeus                       0.5.12\n",
            "pymystem3                     0.2.0\n",
            "PyOpenGL                      3.1.6\n",
            "pyparsing                     3.0.9\n",
            "pyrsistent                    0.19.3\n",
            "PySocks                       1.7.1\n",
            "pytensor                      2.10.1\n",
            "pytest                        7.2.2\n",
            "python-apt                    0.0.0\n",
            "python-dateutil               2.8.2\n",
            "python-louvain                0.16\n",
            "python-slugify                8.0.1\n",
            "python-utils                  3.5.2\n",
            "pytz                          2022.7.1\n",
            "pytz-deprecation-shim         0.1.0.post0\n",
            "pyviz-comms                   2.2.1\n",
            "PyWavelets                    1.4.1\n",
            "PyYAML                        6.0\n",
            "pyzmq                         23.2.1\n",
            "qdldl                         0.1.7\n",
            "qudida                        0.0.4\n",
            "regex                         2022.10.31\n",
            "requests                      2.27.1\n",
            "requests-oauthlib             1.3.1\n",
            "requests-unixsocket           0.2.0\n",
            "rich                          13.3.3\n",
            "rpy2                          3.5.5\n",
            "rsa                           4.9\n",
            "scikit-image                  0.19.3\n",
            "scikit-learn                  1.2.2\n",
            "scipy                         1.10.1\n",
            "scs                           3.2.3\n",
            "seaborn                       0.12.2\n",
            "Send2Trash                    1.8.0\n",
            "setuptools                    67.6.1\n",
            "shapely                       2.0.1\n",
            "six                           1.16.0\n",
            "sklearn-pandas                2.2.0\n",
            "smart-open                    6.3.0\n",
            "sniffio                       1.3.0\n",
            "snowballstemmer               2.2.0\n",
            "sortedcontainers              2.4.0\n",
            "soundfile                     0.12.1\n",
            "soupsieve                     2.4\n",
            "soxr                          0.3.4\n",
            "spacy                         3.5.1\n",
            "spacy-legacy                  3.0.12\n",
            "spacy-loggers                 1.0.4\n",
            "Sphinx                        3.5.4\n",
            "sphinxcontrib-applehelp       1.0.4\n",
            "sphinxcontrib-devhelp         1.0.2\n",
            "sphinxcontrib-htmlhelp        2.0.1\n",
            "sphinxcontrib-jsmath          1.0.1\n",
            "sphinxcontrib-qthelp          1.0.3\n",
            "sphinxcontrib-serializinghtml 1.1.5\n",
            "SQLAlchemy                    2.0.9\n",
            "sqlparse                      0.4.3\n",
            "srsly                         2.4.6\n",
            "statsmodels                   0.13.5\n",
            "sympy                         1.11.1\n",
            "tables                        3.8.0\n",
            "tabulate                      0.8.10\n",
            "tblib                         1.7.0\n",
            "tenacity                      8.2.2\n",
            "tensorboard                   2.12.1\n",
            "tensorboard-data-server       0.7.0\n",
            "tensorboard-plugin-wit        1.8.1\n",
            "tensorflow                    2.12.0\n",
            "tensorflow-datasets           4.8.3\n",
            "tensorflow-estimator          2.12.0\n",
            "tensorflow-gcs-config         2.12.0\n",
            "tensorflow-hub                0.13.0\n",
            "tensorflow-io-gcs-filesystem  0.32.0\n",
            "tensorflow-metadata           1.13.0\n",
            "tensorflow-probability        0.19.0\n",
            "tensorstore                   0.1.35\n",
            "termcolor                     2.2.0\n",
            "terminado                     0.17.1\n",
            "text-unidecode                1.3\n",
            "textblob                      0.17.1\n",
            "tf-slim                       1.1.0\n",
            "thinc                         8.1.9\n",
            "threadpoolctl                 3.1.0\n",
            "tifffile                      2023.3.21\n",
            "tinycss2                      1.2.1\n",
            "toml                          0.10.2\n",
            "tomli                         2.0.1\n",
            "toolz                         0.12.0\n",
            "torch                         2.0.0+cu118\n",
            "torchaudio                    2.0.1+cu118\n",
            "torchdata                     0.6.0\n",
            "torchsummary                  1.5.1\n",
            "torchtext                     0.15.1\n",
            "torchvision                   0.15.1+cu118\n",
            "tornado                       6.2\n",
            "tqdm                          4.65.0\n",
            "traitlets                     5.7.1\n",
            "triton                        2.0.0\n",
            "tweepy                        4.13.0\n",
            "typer                         0.7.0\n",
            "typing_extensions             4.5.0\n",
            "tzdata                        2023.3\n",
            "tzlocal                       4.3\n",
            "uritemplate                   4.1.1\n",
            "urllib3                       1.26.15\n",
            "vega-datasets                 0.9.0\n",
            "wasabi                        1.1.1\n",
            "wcwidth                       0.2.6\n",
            "webcolors                     1.13\n",
            "webencodings                  0.5.1\n",
            "websocket-client              1.5.1\n",
            "websockets                    11.0.1\n",
            "Werkzeug                      2.2.3\n",
            "wheel                         0.40.0\n",
            "widgetsnbextension            3.6.4\n",
            "wordcloud                     1.8.2.2\n",
            "wrapt                         1.14.1\n",
            "xarray                        2022.12.0\n",
            "xarray-einstats               0.5.1\n",
            "xgboost                       1.7.5\n",
            "xlrd                          2.0.1\n",
            "yellowbrick                   1.5\n",
            "yfinance                      0.2.14\n",
            "yt-dlp                        2023.3.4\n",
            "zict                          2.2.0\n",
            "zipp                          3.15.0\n"
          ]
        }
      ]
    },
    {
      "cell_type": "markdown",
      "source": [
        "Library Import"
      ],
      "metadata": {
        "id": "-InBkQCx5OtR"
      }
    },
    {
      "cell_type": "code",
      "execution_count": 3,
      "metadata": {
        "id": "pAc4R9bur616"
      },
      "outputs": [],
      "source": [
        "import numpy as np\n",
        "import pandas as pd\n",
        "import h5py\n",
        "import zipfile\n",
        "import cv2\n",
        "import shutil\n",
        "import zipfile\n",
        "import os\n",
        "import zipfile\n",
        "import gc\n",
        "import copy\n",
        "import math\n",
        "import warnings\n",
        "import random\n",
        "import os\n",
        "from yt_dlp import YoutubeDL\n",
        "import pandas as pd\n",
        "import matplotlib.pyplot as plt\n",
        "import seaborn as sns\n",
        "import plotly.graph_objects as go\n",
        "import albumentations as A\n",
        "import torchvision\n",
        "import torchvision.transforms.functional as TF\n",
        "import torchvision.transforms as transforms\n",
        "# import pafy\n",
        "import torch.utils.data as data_utils\n",
        "import torch\n",
        "import torchvision\n",
        "import torchvision.transforms as transforms\n",
        "import torch.optim as optim\n",
        "import torch.nn as nn\n",
        "import torch.nn.functional as F\n",
        "import PIL\n",
        "import torch.utils.data as data_utils\n",
        "import xml.etree.ElementTree as ET # Parse XML Data.\n",
        "\n",
        "from scipy import ndimage\n",
        "from PIL import Image\n",
        "from torch.utils.data import Dataset\n",
        "from plotly.subplots import make_subplots\n",
        "from matplotlib import pyplot as plt\n",
        "from sklearn.preprocessing import LabelBinarizer\n",
        "from sklearn.model_selection import train_test_split\n",
        "from sklearn.metrics import classification_report\n",
        "from tensorflow.python.client import device_lib\n",
        "from zipfile import ZipFile\n",
        "from IPython import display\n",
        "from torchvision import models, transforms\n",
        "from google.colab.patches import cv2_imshow\n",
        "from sklearn.metrics import confusion_matrix, roc_curve\n",
        "from sklearn.preprocessing import LabelEncoder"
      ]
    },
    {
      "cell_type": "markdown",
      "source": [
        "## Data Preparation"
      ],
      "metadata": {
        "id": "bBiXiaC49tT7"
      }
    },
    {
      "cell_type": "code",
      "source": [
        "! wget https://storage.googleapis.com/deepmind-media/Datasets/kinetics400.tar.gz"
      ],
      "metadata": {
        "colab": {
          "base_uri": "https://localhost:8080/"
        },
        "id": "T2MOeQw8_8o2",
        "outputId": "537346d5-8a1c-492f-d16d-10e74c59bfb9"
      },
      "execution_count": 4,
      "outputs": [
        {
          "output_type": "stream",
          "name": "stdout",
          "text": [
            "--2023-04-12 13:30:27--  https://storage.googleapis.com/deepmind-media/Datasets/kinetics400.tar.gz\n",
            "Resolving storage.googleapis.com (storage.googleapis.com)... 142.250.152.128, 142.250.128.128, 142.251.6.128, ...\n",
            "Connecting to storage.googleapis.com (storage.googleapis.com)|142.250.152.128|:443... connected.\n",
            "HTTP request sent, awaiting response... 200 OK\n",
            "Length: 10634519 (10M) [application/octet-stream]\n",
            "Saving to: ‘kinetics400.tar.gz’\n",
            "\n",
            "kinetics400.tar.gz  100%[===================>]  10.14M  --.-KB/s    in 0.1s    \n",
            "\n",
            "2023-04-12 13:30:27 (99.7 MB/s) - ‘kinetics400.tar.gz’ saved [10634519/10634519]\n",
            "\n"
          ]
        }
      ]
    },
    {
      "cell_type": "code",
      "source": [
        "! tar -xvf './kinetics400.tar.gz'"
      ],
      "metadata": {
        "colab": {
          "base_uri": "https://localhost:8080/"
        },
        "id": "GJJj76vrIJ7_",
        "outputId": "951b3cb4-7aba-45ae-e240-3f4eb86feffd"
      },
      "execution_count": 5,
      "outputs": [
        {
          "output_type": "stream",
          "name": "stdout",
          "text": [
            "kinetics400/\n",
            "kinetics400/validate.csv\n",
            "kinetics400/train.csv\n",
            "kinetics400/test.json\n",
            "kinetics400/test.csv\n",
            "kinetics400/train.json\n",
            "kinetics400/validate.json\n"
          ]
        }
      ]
    },
    {
      "cell_type": "markdown",
      "source": [
        "## Data Preprocessing"
      ],
      "metadata": {
        "id": "sNzJ0KHi9zme"
      }
    },
    {
      "cell_type": "markdown",
      "source": [
        "Load the dataset."
      ],
      "metadata": {
        "id": "bMwmU9IzHLy_"
      }
    },
    {
      "cell_type": "code",
      "source": [
        "dataset_path = \"kinetics400\"\n",
        "train_df = pd.read_csv(f\"{dataset_path}/train.csv\")\n",
        "train_df"
      ],
      "metadata": {
        "colab": {
          "base_uri": "https://localhost:8080/",
          "height": 424
        },
        "id": "hugcvFF0ODKW",
        "outputId": "c3994116-a8a9-45d6-cfb7-4e281901cbda"
      },
      "execution_count": 6,
      "outputs": [
        {
          "output_type": "execute_result",
          "data": {
            "text/plain": [
              "                       label   youtube_id  time_start  time_end  split\n",
              "0                 testifying  ---QUuC4vJs          84        94  train\n",
              "1           eating spaghetti  --3ouPhoy2A          20        30  train\n",
              "2       dribbling basketball  --4-0ihtnBU          58        68  train\n",
              "3             playing tennis  --56QUhyDQM         185       195  train\n",
              "4                tap dancing  --6q_33gNew         132       142  train\n",
              "...                      ...          ...         ...       ...    ...\n",
              "216222           ice fishing  zzz0-zDYts8          80        90  train\n",
              "216223         making a cake  zzzZycxdZHk          54        64  train\n",
              "216224        washing dishes  zzz_3yWpTXo           0        10  train\n",
              "216225               busking  zzzlyL61Fyo          13        23  train\n",
              "216226          changing oil  zzzzE0ncP1Y         232       242  train\n",
              "\n",
              "[216227 rows x 5 columns]"
            ],
            "text/html": [
              "\n",
              "  <div id=\"df-0af1bd43-e0d3-42b1-aaab-5d95341dfde3\">\n",
              "    <div class=\"colab-df-container\">\n",
              "      <div>\n",
              "<style scoped>\n",
              "    .dataframe tbody tr th:only-of-type {\n",
              "        vertical-align: middle;\n",
              "    }\n",
              "\n",
              "    .dataframe tbody tr th {\n",
              "        vertical-align: top;\n",
              "    }\n",
              "\n",
              "    .dataframe thead th {\n",
              "        text-align: right;\n",
              "    }\n",
              "</style>\n",
              "<table border=\"1\" class=\"dataframe\">\n",
              "  <thead>\n",
              "    <tr style=\"text-align: right;\">\n",
              "      <th></th>\n",
              "      <th>label</th>\n",
              "      <th>youtube_id</th>\n",
              "      <th>time_start</th>\n",
              "      <th>time_end</th>\n",
              "      <th>split</th>\n",
              "    </tr>\n",
              "  </thead>\n",
              "  <tbody>\n",
              "    <tr>\n",
              "      <th>0</th>\n",
              "      <td>testifying</td>\n",
              "      <td>---QUuC4vJs</td>\n",
              "      <td>84</td>\n",
              "      <td>94</td>\n",
              "      <td>train</td>\n",
              "    </tr>\n",
              "    <tr>\n",
              "      <th>1</th>\n",
              "      <td>eating spaghetti</td>\n",
              "      <td>--3ouPhoy2A</td>\n",
              "      <td>20</td>\n",
              "      <td>30</td>\n",
              "      <td>train</td>\n",
              "    </tr>\n",
              "    <tr>\n",
              "      <th>2</th>\n",
              "      <td>dribbling basketball</td>\n",
              "      <td>--4-0ihtnBU</td>\n",
              "      <td>58</td>\n",
              "      <td>68</td>\n",
              "      <td>train</td>\n",
              "    </tr>\n",
              "    <tr>\n",
              "      <th>3</th>\n",
              "      <td>playing tennis</td>\n",
              "      <td>--56QUhyDQM</td>\n",
              "      <td>185</td>\n",
              "      <td>195</td>\n",
              "      <td>train</td>\n",
              "    </tr>\n",
              "    <tr>\n",
              "      <th>4</th>\n",
              "      <td>tap dancing</td>\n",
              "      <td>--6q_33gNew</td>\n",
              "      <td>132</td>\n",
              "      <td>142</td>\n",
              "      <td>train</td>\n",
              "    </tr>\n",
              "    <tr>\n",
              "      <th>...</th>\n",
              "      <td>...</td>\n",
              "      <td>...</td>\n",
              "      <td>...</td>\n",
              "      <td>...</td>\n",
              "      <td>...</td>\n",
              "    </tr>\n",
              "    <tr>\n",
              "      <th>216222</th>\n",
              "      <td>ice fishing</td>\n",
              "      <td>zzz0-zDYts8</td>\n",
              "      <td>80</td>\n",
              "      <td>90</td>\n",
              "      <td>train</td>\n",
              "    </tr>\n",
              "    <tr>\n",
              "      <th>216223</th>\n",
              "      <td>making a cake</td>\n",
              "      <td>zzzZycxdZHk</td>\n",
              "      <td>54</td>\n",
              "      <td>64</td>\n",
              "      <td>train</td>\n",
              "    </tr>\n",
              "    <tr>\n",
              "      <th>216224</th>\n",
              "      <td>washing dishes</td>\n",
              "      <td>zzz_3yWpTXo</td>\n",
              "      <td>0</td>\n",
              "      <td>10</td>\n",
              "      <td>train</td>\n",
              "    </tr>\n",
              "    <tr>\n",
              "      <th>216225</th>\n",
              "      <td>busking</td>\n",
              "      <td>zzzlyL61Fyo</td>\n",
              "      <td>13</td>\n",
              "      <td>23</td>\n",
              "      <td>train</td>\n",
              "    </tr>\n",
              "    <tr>\n",
              "      <th>216226</th>\n",
              "      <td>changing oil</td>\n",
              "      <td>zzzzE0ncP1Y</td>\n",
              "      <td>232</td>\n",
              "      <td>242</td>\n",
              "      <td>train</td>\n",
              "    </tr>\n",
              "  </tbody>\n",
              "</table>\n",
              "<p>216227 rows × 5 columns</p>\n",
              "</div>\n",
              "      <button class=\"colab-df-convert\" onclick=\"convertToInteractive('df-0af1bd43-e0d3-42b1-aaab-5d95341dfde3')\"\n",
              "              title=\"Convert this dataframe to an interactive table.\"\n",
              "              style=\"display:none;\">\n",
              "        \n",
              "  <svg xmlns=\"http://www.w3.org/2000/svg\" height=\"24px\"viewBox=\"0 0 24 24\"\n",
              "       width=\"24px\">\n",
              "    <path d=\"M0 0h24v24H0V0z\" fill=\"none\"/>\n",
              "    <path d=\"M18.56 5.44l.94 2.06.94-2.06 2.06-.94-2.06-.94-.94-2.06-.94 2.06-2.06.94zm-11 1L8.5 8.5l.94-2.06 2.06-.94-2.06-.94L8.5 2.5l-.94 2.06-2.06.94zm10 10l.94 2.06.94-2.06 2.06-.94-2.06-.94-.94-2.06-.94 2.06-2.06.94z\"/><path d=\"M17.41 7.96l-1.37-1.37c-.4-.4-.92-.59-1.43-.59-.52 0-1.04.2-1.43.59L10.3 9.45l-7.72 7.72c-.78.78-.78 2.05 0 2.83L4 21.41c.39.39.9.59 1.41.59.51 0 1.02-.2 1.41-.59l7.78-7.78 2.81-2.81c.8-.78.8-2.07 0-2.86zM5.41 20L4 18.59l7.72-7.72 1.47 1.35L5.41 20z\"/>\n",
              "  </svg>\n",
              "      </button>\n",
              "      \n",
              "  <style>\n",
              "    .colab-df-container {\n",
              "      display:flex;\n",
              "      flex-wrap:wrap;\n",
              "      gap: 12px;\n",
              "    }\n",
              "\n",
              "    .colab-df-convert {\n",
              "      background-color: #E8F0FE;\n",
              "      border: none;\n",
              "      border-radius: 50%;\n",
              "      cursor: pointer;\n",
              "      display: none;\n",
              "      fill: #1967D2;\n",
              "      height: 32px;\n",
              "      padding: 0 0 0 0;\n",
              "      width: 32px;\n",
              "    }\n",
              "\n",
              "    .colab-df-convert:hover {\n",
              "      background-color: #E2EBFA;\n",
              "      box-shadow: 0px 1px 2px rgba(60, 64, 67, 0.3), 0px 1px 3px 1px rgba(60, 64, 67, 0.15);\n",
              "      fill: #174EA6;\n",
              "    }\n",
              "\n",
              "    [theme=dark] .colab-df-convert {\n",
              "      background-color: #3B4455;\n",
              "      fill: #D2E3FC;\n",
              "    }\n",
              "\n",
              "    [theme=dark] .colab-df-convert:hover {\n",
              "      background-color: #434B5C;\n",
              "      box-shadow: 0px 1px 3px 1px rgba(0, 0, 0, 0.15);\n",
              "      filter: drop-shadow(0px 1px 2px rgba(0, 0, 0, 0.3));\n",
              "      fill: #FFFFFF;\n",
              "    }\n",
              "  </style>\n",
              "\n",
              "      <script>\n",
              "        const buttonEl =\n",
              "          document.querySelector('#df-0af1bd43-e0d3-42b1-aaab-5d95341dfde3 button.colab-df-convert');\n",
              "        buttonEl.style.display =\n",
              "          google.colab.kernel.accessAllowed ? 'block' : 'none';\n",
              "\n",
              "        async function convertToInteractive(key) {\n",
              "          const element = document.querySelector('#df-0af1bd43-e0d3-42b1-aaab-5d95341dfde3');\n",
              "          const dataTable =\n",
              "            await google.colab.kernel.invokeFunction('convertToInteractive',\n",
              "                                                     [key], {});\n",
              "          if (!dataTable) return;\n",
              "\n",
              "          const docLinkHtml = 'Like what you see? Visit the ' +\n",
              "            '<a target=\"_blank\" href=https://colab.research.google.com/notebooks/data_table.ipynb>data table notebook</a>'\n",
              "            + ' to learn more about interactive tables.';\n",
              "          element.innerHTML = '';\n",
              "          dataTable['output_type'] = 'display_data';\n",
              "          await google.colab.output.renderOutput(dataTable, element);\n",
              "          const docLink = document.createElement('div');\n",
              "          docLink.innerHTML = docLinkHtml;\n",
              "          element.appendChild(docLink);\n",
              "        }\n",
              "      </script>\n",
              "    </div>\n",
              "  </div>\n",
              "  "
            ]
          },
          "metadata": {},
          "execution_count": 6
        }
      ]
    },
    {
      "cell_type": "code",
      "source": [
        "val_df = pd.read_csv(f\"{dataset_path}/validate.csv\")\n",
        "val_df"
      ],
      "metadata": {
        "colab": {
          "base_uri": "https://localhost:8080/",
          "height": 424
        },
        "id": "RiUMaoIXXJ7b",
        "outputId": "13af394e-e491-4a01-a8d0-1d8d1b0041f4"
      },
      "execution_count": 7,
      "outputs": [
        {
          "output_type": "execute_result",
          "data": {
            "text/plain": [
              "                       label   youtube_id  time_start  time_end     split\n",
              "0              javelin throw  --07WQ2iBlw           1        11  validate\n",
              "1           flipping pancake  --33Lscn6sk           4        14  validate\n",
              "2          playing saxophone  --7VUM9MKg4         136       146  validate\n",
              "3                   slapping  --7goKgS4kc          15        25  validate\n",
              "4                 making tea  --7qK_w-g3Y         185       195  validate\n",
              "...                      ...          ...         ...       ...       ...\n",
              "17722  dancing gangnam style  zyf4BkKrKXY         101       111  validate\n",
              "17723    clay pottery making  zyhaT3wPCp8          97       107  validate\n",
              "17724        folding clothes  zyloWArlaQ0           0        10  validate\n",
              "17725            headbanging  zymA_6jZIz4           1        11  validate\n",
              "17726        sled dog racing  zzokQ8DKETs         112       122  validate\n",
              "\n",
              "[17727 rows x 5 columns]"
            ],
            "text/html": [
              "\n",
              "  <div id=\"df-56c26fe1-d74f-4735-857d-8e6232a11978\">\n",
              "    <div class=\"colab-df-container\">\n",
              "      <div>\n",
              "<style scoped>\n",
              "    .dataframe tbody tr th:only-of-type {\n",
              "        vertical-align: middle;\n",
              "    }\n",
              "\n",
              "    .dataframe tbody tr th {\n",
              "        vertical-align: top;\n",
              "    }\n",
              "\n",
              "    .dataframe thead th {\n",
              "        text-align: right;\n",
              "    }\n",
              "</style>\n",
              "<table border=\"1\" class=\"dataframe\">\n",
              "  <thead>\n",
              "    <tr style=\"text-align: right;\">\n",
              "      <th></th>\n",
              "      <th>label</th>\n",
              "      <th>youtube_id</th>\n",
              "      <th>time_start</th>\n",
              "      <th>time_end</th>\n",
              "      <th>split</th>\n",
              "    </tr>\n",
              "  </thead>\n",
              "  <tbody>\n",
              "    <tr>\n",
              "      <th>0</th>\n",
              "      <td>javelin throw</td>\n",
              "      <td>--07WQ2iBlw</td>\n",
              "      <td>1</td>\n",
              "      <td>11</td>\n",
              "      <td>validate</td>\n",
              "    </tr>\n",
              "    <tr>\n",
              "      <th>1</th>\n",
              "      <td>flipping pancake</td>\n",
              "      <td>--33Lscn6sk</td>\n",
              "      <td>4</td>\n",
              "      <td>14</td>\n",
              "      <td>validate</td>\n",
              "    </tr>\n",
              "    <tr>\n",
              "      <th>2</th>\n",
              "      <td>playing saxophone</td>\n",
              "      <td>--7VUM9MKg4</td>\n",
              "      <td>136</td>\n",
              "      <td>146</td>\n",
              "      <td>validate</td>\n",
              "    </tr>\n",
              "    <tr>\n",
              "      <th>3</th>\n",
              "      <td>slapping</td>\n",
              "      <td>--7goKgS4kc</td>\n",
              "      <td>15</td>\n",
              "      <td>25</td>\n",
              "      <td>validate</td>\n",
              "    </tr>\n",
              "    <tr>\n",
              "      <th>4</th>\n",
              "      <td>making tea</td>\n",
              "      <td>--7qK_w-g3Y</td>\n",
              "      <td>185</td>\n",
              "      <td>195</td>\n",
              "      <td>validate</td>\n",
              "    </tr>\n",
              "    <tr>\n",
              "      <th>...</th>\n",
              "      <td>...</td>\n",
              "      <td>...</td>\n",
              "      <td>...</td>\n",
              "      <td>...</td>\n",
              "      <td>...</td>\n",
              "    </tr>\n",
              "    <tr>\n",
              "      <th>17722</th>\n",
              "      <td>dancing gangnam style</td>\n",
              "      <td>zyf4BkKrKXY</td>\n",
              "      <td>101</td>\n",
              "      <td>111</td>\n",
              "      <td>validate</td>\n",
              "    </tr>\n",
              "    <tr>\n",
              "      <th>17723</th>\n",
              "      <td>clay pottery making</td>\n",
              "      <td>zyhaT3wPCp8</td>\n",
              "      <td>97</td>\n",
              "      <td>107</td>\n",
              "      <td>validate</td>\n",
              "    </tr>\n",
              "    <tr>\n",
              "      <th>17724</th>\n",
              "      <td>folding clothes</td>\n",
              "      <td>zyloWArlaQ0</td>\n",
              "      <td>0</td>\n",
              "      <td>10</td>\n",
              "      <td>validate</td>\n",
              "    </tr>\n",
              "    <tr>\n",
              "      <th>17725</th>\n",
              "      <td>headbanging</td>\n",
              "      <td>zymA_6jZIz4</td>\n",
              "      <td>1</td>\n",
              "      <td>11</td>\n",
              "      <td>validate</td>\n",
              "    </tr>\n",
              "    <tr>\n",
              "      <th>17726</th>\n",
              "      <td>sled dog racing</td>\n",
              "      <td>zzokQ8DKETs</td>\n",
              "      <td>112</td>\n",
              "      <td>122</td>\n",
              "      <td>validate</td>\n",
              "    </tr>\n",
              "  </tbody>\n",
              "</table>\n",
              "<p>17727 rows × 5 columns</p>\n",
              "</div>\n",
              "      <button class=\"colab-df-convert\" onclick=\"convertToInteractive('df-56c26fe1-d74f-4735-857d-8e6232a11978')\"\n",
              "              title=\"Convert this dataframe to an interactive table.\"\n",
              "              style=\"display:none;\">\n",
              "        \n",
              "  <svg xmlns=\"http://www.w3.org/2000/svg\" height=\"24px\"viewBox=\"0 0 24 24\"\n",
              "       width=\"24px\">\n",
              "    <path d=\"M0 0h24v24H0V0z\" fill=\"none\"/>\n",
              "    <path d=\"M18.56 5.44l.94 2.06.94-2.06 2.06-.94-2.06-.94-.94-2.06-.94 2.06-2.06.94zm-11 1L8.5 8.5l.94-2.06 2.06-.94-2.06-.94L8.5 2.5l-.94 2.06-2.06.94zm10 10l.94 2.06.94-2.06 2.06-.94-2.06-.94-.94-2.06-.94 2.06-2.06.94z\"/><path d=\"M17.41 7.96l-1.37-1.37c-.4-.4-.92-.59-1.43-.59-.52 0-1.04.2-1.43.59L10.3 9.45l-7.72 7.72c-.78.78-.78 2.05 0 2.83L4 21.41c.39.39.9.59 1.41.59.51 0 1.02-.2 1.41-.59l7.78-7.78 2.81-2.81c.8-.78.8-2.07 0-2.86zM5.41 20L4 18.59l7.72-7.72 1.47 1.35L5.41 20z\"/>\n",
              "  </svg>\n",
              "      </button>\n",
              "      \n",
              "  <style>\n",
              "    .colab-df-container {\n",
              "      display:flex;\n",
              "      flex-wrap:wrap;\n",
              "      gap: 12px;\n",
              "    }\n",
              "\n",
              "    .colab-df-convert {\n",
              "      background-color: #E8F0FE;\n",
              "      border: none;\n",
              "      border-radius: 50%;\n",
              "      cursor: pointer;\n",
              "      display: none;\n",
              "      fill: #1967D2;\n",
              "      height: 32px;\n",
              "      padding: 0 0 0 0;\n",
              "      width: 32px;\n",
              "    }\n",
              "\n",
              "    .colab-df-convert:hover {\n",
              "      background-color: #E2EBFA;\n",
              "      box-shadow: 0px 1px 2px rgba(60, 64, 67, 0.3), 0px 1px 3px 1px rgba(60, 64, 67, 0.15);\n",
              "      fill: #174EA6;\n",
              "    }\n",
              "\n",
              "    [theme=dark] .colab-df-convert {\n",
              "      background-color: #3B4455;\n",
              "      fill: #D2E3FC;\n",
              "    }\n",
              "\n",
              "    [theme=dark] .colab-df-convert:hover {\n",
              "      background-color: #434B5C;\n",
              "      box-shadow: 0px 1px 3px 1px rgba(0, 0, 0, 0.15);\n",
              "      filter: drop-shadow(0px 1px 2px rgba(0, 0, 0, 0.3));\n",
              "      fill: #FFFFFF;\n",
              "    }\n",
              "  </style>\n",
              "\n",
              "      <script>\n",
              "        const buttonEl =\n",
              "          document.querySelector('#df-56c26fe1-d74f-4735-857d-8e6232a11978 button.colab-df-convert');\n",
              "        buttonEl.style.display =\n",
              "          google.colab.kernel.accessAllowed ? 'block' : 'none';\n",
              "\n",
              "        async function convertToInteractive(key) {\n",
              "          const element = document.querySelector('#df-56c26fe1-d74f-4735-857d-8e6232a11978');\n",
              "          const dataTable =\n",
              "            await google.colab.kernel.invokeFunction('convertToInteractive',\n",
              "                                                     [key], {});\n",
              "          if (!dataTable) return;\n",
              "\n",
              "          const docLinkHtml = 'Like what you see? Visit the ' +\n",
              "            '<a target=\"_blank\" href=https://colab.research.google.com/notebooks/data_table.ipynb>data table notebook</a>'\n",
              "            + ' to learn more about interactive tables.';\n",
              "          element.innerHTML = '';\n",
              "          dataTable['output_type'] = 'display_data';\n",
              "          await google.colab.output.renderOutput(dataTable, element);\n",
              "          const docLink = document.createElement('div');\n",
              "          docLink.innerHTML = docLinkHtml;\n",
              "          element.appendChild(docLink);\n",
              "        }\n",
              "      </script>\n",
              "    </div>\n",
              "  </div>\n",
              "  "
            ]
          },
          "metadata": {},
          "execution_count": 7
        }
      ]
    },
    {
      "cell_type": "markdown",
      "source": [
        "Create Field Variables to reference fields in DataFrame."
      ],
      "metadata": {
        "id": "d0_zDJ2-L6hZ"
      }
    },
    {
      "cell_type": "code",
      "source": [
        "label_field = \"label\"\n",
        "youtube_id_field = \"youtube_id\"\n",
        "time_start_field = \"time_start\"\n",
        "time_end_field = \"time_end\"\n",
        "split_field = \"split\""
      ],
      "metadata": {
        "id": "aGISI5JhL8E7"
      },
      "execution_count": 54,
      "outputs": []
    },
    {
      "cell_type": "markdown",
      "source": [
        "## Data Analysis"
      ],
      "metadata": {
        "id": "J3M02lUcWn0z"
      }
    },
    {
      "cell_type": "code",
      "source": [
        "plt.figure(figsize = (15, 3))\n",
        "plt.xticks(rotation = 45)\n",
        "train_df[label_field].value_counts().head(10).plot(kind = \"bar\", rot = 0)\n",
        "plt.tight_layout()"
      ],
      "metadata": {
        "colab": {
          "base_uri": "https://localhost:8080/",
          "height": 139
        },
        "id": "LP2UHV30W27N",
        "outputId": "80ca1048-4647-4fa8-ced4-b1a8ace67f72"
      },
      "execution_count": 55,
      "outputs": [
        {
          "output_type": "display_data",
          "data": {
            "text/plain": [
              "<Figure size 1500x300 with 1 Axes>"
            ],
            "image/png": "[encoded data removed]"
          },
          "metadata": {}
        }
      ]
    },
    {
      "cell_type": "code",
      "source": [
        "plt.figure(figsize = (15, 3))\n",
        "plt.xticks(rotation = 45)\n",
        "train_df[label_field].value_counts().tail(10).plot(kind = \"bar\", rot = 0)\n",
        "plt.tight_layout()"
      ],
      "metadata": {
        "colab": {
          "base_uri": "https://localhost:8080/",
          "height": 139
        },
        "id": "mAWEgf1IbEdL",
        "outputId": "ea2167ba-a5ef-4552-cb93-513680629a95"
      },
      "execution_count": 56,
      "outputs": [
        {
          "output_type": "display_data",
          "data": {
            "text/plain": [
              "<Figure size 1500x300 with 1 Axes>"
            ],
            "image/png": "[encoded data removed]"
          },
          "metadata": {}
        }
      ]
    },
    {
      "cell_type": "markdown",
      "source": [
        "Sample One Youtube Video."
      ],
      "metadata": {
        "id": "OujXX4IXFHT9"
      }
    },
    {
      "cell_type": "code",
      "source": [
        "sample_youtube_id = \"--33Lscn6sk\"\n",
        "youtube_url = f\"https://youtu.be/{sample_youtube_id}\"\n",
        "\n",
        "def get_youtube_statistic_from_url(video_url, columns_to_extract, ydl_opts):\n",
        "   with YoutubeDL(ydl_opts) as ydl:\n",
        "     # Get video information,\n",
        "    result = ydl.extract_info(\n",
        "        youtube_url,\n",
        "        download = False,\n",
        "    )\n",
        "\n",
        "    if 'entries' in result:\n",
        "      # Get only the first video, since we only care about the 1st video.\n",
        "      FIRST_VIDEO_INDEX = 0\n",
        "      video = result['entries'][FIRST_VIDEO_INDEX]\n",
        "    else:\n",
        "      # This is already the first video. Just instantly get the video!\n",
        "      video = result\n",
        "    \n",
        "    data_df = pd.DataFrame.from_dict(\n",
        "      result,\n",
        "      orient = \"index\",\n",
        "    ).T\n",
        "\n",
        "    data_df = data_df[columns_to_extract]\n",
        "\n",
        "    return data_df\n",
        "\n",
        "def get_youtube_video(video_url, ydl_opts):\n",
        "  with YoutubeDL(ydl_opts) as ydl:\n",
        "    video = ydl.download(video_url)\n",
        "\n",
        "    video_capture = cv2.VideoCapture()\n",
        "    video_capture.open(best.url)\n",
        "\n",
        "    while True:\n",
        "      ret, frame = video_capture.read()\n",
        "      if ret == True:\n",
        "        cv2_imshow(frame)\n",
        "\n",
        "    video_capture.release()\n",
        "    cv2.destroyAllWindows()\n",
        "\n",
        "\n",
        "columns_to_extract = [\"id\", \"title\", \"width\", \"height\", \"format_id\", \"duration\", \"fps\", \"vbr\"]\n",
        "ydl_opts = {\n",
        "  \"quiet\": True\n",
        "}\n",
        "\n",
        "video_analysis_df = pd.DataFrame(\n",
        "    columns = columns_to_extract\n",
        ")\n",
        "\n",
        "sample_analysis_df = get_youtube_statistic_from_url(\n",
        "  youtube_url, \n",
        "  columns_to_extract, \n",
        "  ydl_opts\n",
        ")\n",
        "\n",
        "video_analysis_df = pd.concat([video_analysis_df, sample_analysis_df], axis = 0)\n",
        "video_analysis_df"
      ],
      "metadata": {
        "id": "w8vLW7tgSsAp",
        "colab": {
          "base_uri": "https://localhost:8080/",
          "height": 125
        },
        "outputId": "39b9e502-299c-4276-91ae-0c670646c2b7"
      },
      "execution_count": 53,
      "outputs": [
        {
          "output_type": "execute_result",
          "data": {
            "text/plain": [
              "            id               title width height format_id duration fps     vbr\n",
              "0  --33Lscn6sk  flipping a pancake   568    320        18       10  30  413.55"
            ],
            "text/html": [
              "\n",
              "  <div id=\"df-3bbb19a6-17e6-4dc0-92f9-de8dc6673045\">\n",
              "    <div class=\"colab-df-container\">\n",
              "      <div>\n",
              "<style scoped>\n",
              "    .dataframe tbody tr th:only-of-type {\n",
              "        vertical-align: middle;\n",
              "    }\n",
              "\n",
              "    .dataframe tbody tr th {\n",
              "        vertical-align: top;\n",
              "    }\n",
              "\n",
              "    .dataframe thead th {\n",
              "        text-align: right;\n",
              "    }\n",
              "</style>\n",
              "<table border=\"1\" class=\"dataframe\">\n",
              "  <thead>\n",
              "    <tr style=\"text-align: right;\">\n",
              "      <th></th>\n",
              "      <th>id</th>\n",
              "      <th>title</th>\n",
              "      <th>width</th>\n",
              "      <th>height</th>\n",
              "      <th>format_id</th>\n",
              "      <th>duration</th>\n",
              "      <th>fps</th>\n",
              "      <th>vbr</th>\n",
              "    </tr>\n",
              "  </thead>\n",
              "  <tbody>\n",
              "    <tr>\n",
              "      <th>0</th>\n",
              "      <td>--33Lscn6sk</td>\n",
              "      <td>flipping a pancake</td>\n",
              "      <td>568</td>\n",
              "      <td>320</td>\n",
              "      <td>18</td>\n",
              "      <td>10</td>\n",
              "      <td>30</td>\n",
              "      <td>413.55</td>\n",
              "    </tr>\n",
              "  </tbody>\n",
              "</table>\n",
              "</div>\n",
              "      <button class=\"colab-df-convert\" onclick=\"convertToInteractive('df-3bbb19a6-17e6-4dc0-92f9-de8dc6673045')\"\n",
              "              title=\"Convert this dataframe to an interactive table.\"\n",
              "              style=\"display:none;\">\n",
              "        \n",
              "  <svg xmlns=\"http://www.w3.org/2000/svg\" height=\"24px\"viewBox=\"0 0 24 24\"\n",
              "       width=\"24px\">\n",
              "    <path d=\"M0 0h24v24H0V0z\" fill=\"none\"/>\n",
              "    <path d=\"M18.56 5.44l.94 2.06.94-2.06 2.06-.94-2.06-.94-.94-2.06-.94 2.06-2.06.94zm-11 1L8.5 8.5l.94-2.06 2.06-.94-2.06-.94L8.5 2.5l-.94 2.06-2.06.94zm10 10l.94 2.06.94-2.06 2.06-.94-2.06-.94-.94-2.06-.94 2.06-2.06.94z\"/><path d=\"M17.41 7.96l-1.37-1.37c-.4-.4-.92-.59-1.43-.59-.52 0-1.04.2-1.43.59L10.3 9.45l-7.72 7.72c-.78.78-.78 2.05 0 2.83L4 21.41c.39.39.9.59 1.41.59.51 0 1.02-.2 1.41-.59l7.78-7.78 2.81-2.81c.8-.78.8-2.07 0-2.86zM5.41 20L4 18.59l7.72-7.72 1.47 1.35L5.41 20z\"/>\n",
              "  </svg>\n",
              "      </button>\n",
              "      \n",
              "  <style>\n",
              "    .colab-df-container {\n",
              "      display:flex;\n",
              "      flex-wrap:wrap;\n",
              "      gap: 12px;\n",
              "    }\n",
              "\n",
              "    .colab-df-convert {\n",
              "      background-color: #E8F0FE;\n",
              "      border: none;\n",
              "      border-radius: 50%;\n",
              "      cursor: pointer;\n",
              "      display: none;\n",
              "      fill: #1967D2;\n",
              "      height: 32px;\n",
              "      padding: 0 0 0 0;\n",
              "      width: 32px;\n",
              "    }\n",
              "\n",
              "    .colab-df-convert:hover {\n",
              "      background-color: #E2EBFA;\n",
              "      box-shadow: 0px 1px 2px rgba(60, 64, 67, 0.3), 0px 1px 3px 1px rgba(60, 64, 67, 0.15);\n",
              "      fill: #174EA6;\n",
              "    }\n",
              "\n",
              "    [theme=dark] .colab-df-convert {\n",
              "      background-color: #3B4455;\n",
              "      fill: #D2E3FC;\n",
              "    }\n",
              "\n",
              "    [theme=dark] .colab-df-convert:hover {\n",
              "      background-color: #434B5C;\n",
              "      box-shadow: 0px 1px 3px 1px rgba(0, 0, 0, 0.15);\n",
              "      filter: drop-shadow(0px 1px 2px rgba(0, 0, 0, 0.3));\n",
              "      fill: #FFFFFF;\n",
              "    }\n",
              "  </style>\n",
              "\n",
              "      <script>\n",
              "        const buttonEl =\n",
              "          document.querySelector('#df-3bbb19a6-17e6-4dc0-92f9-de8dc6673045 button.colab-df-convert');\n",
              "        buttonEl.style.display =\n",
              "          google.colab.kernel.accessAllowed ? 'block' : 'none';\n",
              "\n",
              "        async function convertToInteractive(key) {\n",
              "          const element = document.querySelector('#df-3bbb19a6-17e6-4dc0-92f9-de8dc6673045');\n",
              "          const dataTable =\n",
              "            await google.colab.kernel.invokeFunction('convertToInteractive',\n",
              "                                                     [key], {});\n",
              "          if (!dataTable) return;\n",
              "\n",
              "          const docLinkHtml = 'Like what you see? Visit the ' +\n",
              "            '<a target=\"_blank\" href=https://colab.research.google.com/notebooks/data_table.ipynb>data table notebook</a>'\n",
              "            + ' to learn more about interactive tables.';\n",
              "          element.innerHTML = '';\n",
              "          dataTable['output_type'] = 'display_data';\n",
              "          await google.colab.output.renderOutput(dataTable, element);\n",
              "          const docLink = document.createElement('div');\n",
              "          docLink.innerHTML = docLinkHtml;\n",
              "          element.appendChild(docLink);\n",
              "        }\n",
              "      </script>\n",
              "    </div>\n",
              "  </div>\n",
              "  "
            ]
          },
          "metadata": {},
          "execution_count": 53
        }
      ]
    },
    {
      "cell_type": "markdown",
      "source": [
        "Make Directory for training and validation for keeping youtube videos."
      ],
      "metadata": {
        "id": "PDhP0oYSCtTz"
      }
    },
    {
      "cell_type": "code",
      "source": [
        "! mkdir val\n",
        "! mkdir train"
      ],
      "metadata": {
        "id": "psnxe455H7so"
      },
      "execution_count": 52,
      "outputs": []
    },
    {
      "cell_type": "markdown",
      "source": [
        "Get the statistics of all train and validation datasets."
      ],
      "metadata": {
        "id": "DhIfcYEOIQ_O"
      }
    },
    {
      "cell_type": "code",
      "source": [
        "columns_to_extract = [\"id\", \"title\", \"width\", \"height\", \"format_id\", \"duration\", \"fps\", \"vbr\"]\n",
        "\n",
        "ydl_opts = {\n",
        "  \"quiet\": True\n",
        "}\n",
        "\n",
        "video_analysis_df = pd.DataFrame(\n",
        "    columns = columns_to_extract\n",
        ")\n",
        "\n",
        "save_video_analysis_name = \"video_analysis.csv\"\n",
        "\n",
        "for index, row in train_df.iloc[1:].iterrows():\n",
        "  print(f\"Processing index: {index}\")\n",
        "  youtube_id = row[youtube_id_field]\n",
        "  youtube_url = f\"https://youtu.be/{youtube_id}\"\n",
        "\n",
        "  try:\n",
        "    sample_analysis_df = get_youtube_statistic_from_url(\n",
        "      youtube_url, \n",
        "      columns_to_extract, \n",
        "      ydl_opts\n",
        "    )\n",
        "\n",
        "    video_analysis_df = pd.concat([video_analysis_df, sample_analysis_df], axis = 0)\n",
        "\n",
        "    video_analysis_df.to_csv(save_video_analysis_name, index = False)\n",
        "  except Exception as e:\n",
        "    print(f\"Extractor Error: {e}\")"
      ],
      "metadata": {
        "colab": {
          "base_uri": "https://localhost:8080/"
        },
        "id": "SdvgH9JKIO4v",
        "outputId": "73974631-50c9-44f4-9841-658954f1b14d"
      },
      "execution_count": null,
      "outputs": [
        {
          "output_type": "stream",
          "name": "stdout",
          "text": [
            "Processing index: 0\n"
          ]
        },
        {
          "output_type": "stream",
          "name": "stderr",
          "text": [
            "ERROR: [youtube] ---QUuC4vJs: Private video. Sign in if you've been granted access to this video\n"
          ]
        },
        {
          "output_type": "stream",
          "name": "stdout",
          "text": [
            "Extractor Error: ERROR: [youtube] ---QUuC4vJs: Private video. Sign in if you've been granted access to this video\n",
            "Processing index: 1\n",
            "Processing index: 2\n",
            "Processing index: 3\n",
            "Processing index: 4\n",
            "Processing index: 5\n",
            "Processing index: 6\n",
            "Processing index: 7\n",
            "Processing index: 8\n",
            "Processing index: 9\n"
          ]
        },
        {
          "output_type": "stream",
          "name": "stderr",
          "text": [
            "ERROR: [youtube] --TBx-Spzis: Private video. Sign in if you've been granted access to this video\n"
          ]
        },
        {
          "output_type": "stream",
          "name": "stdout",
          "text": [
            "Extractor Error: ERROR: [youtube] --TBx-Spzis: Private video. Sign in if you've been granted access to this video\n",
            "Processing index: 10\n",
            "Processing index: 11\n",
            "Processing index: 12\n",
            "Processing index: 13\n"
          ]
        },
        {
          "output_type": "stream",
          "name": "stderr",
          "text": [
            "ERROR: [youtube] --bO6XwZ9HI: Private video. Sign in if you've been granted access to this video\n"
          ]
        },
        {
          "output_type": "stream",
          "name": "stdout",
          "text": [
            "Extractor Error: ERROR: [youtube] --bO6XwZ9HI: Private video. Sign in if you've been granted access to this video\n",
            "Processing index: 14\n",
            "Processing index: 15\n",
            "Processing index: 16\n"
          ]
        },
        {
          "output_type": "stream",
          "name": "stderr",
          "text": [
            "ERROR: [youtube] --jD1Yu5ZnQ: Private video. Sign in if you've been granted access to this video\n"
          ]
        },
        {
          "output_type": "stream",
          "name": "stdout",
          "text": [
            "Extractor Error: ERROR: [youtube] --jD1Yu5ZnQ: Private video. Sign in if you've been granted access to this video\n",
            "Processing index: 17\n",
            "Processing index: 18\n",
            "Processing index: 19\n",
            "Processing index: 20\n",
            "Processing index: 21\n",
            "Processing index: 22\n"
          ]
        },
        {
          "output_type": "stream",
          "name": "stderr",
          "text": [
            "ERROR: [youtube] --wGzXrj0SU: Private video. Sign in if you've been granted access to this video\n"
          ]
        },
        {
          "output_type": "stream",
          "name": "stdout",
          "text": [
            "Extractor Error: ERROR: [youtube] --wGzXrj0SU: Private video. Sign in if you've been granted access to this video\n",
            "Processing index: 23\n",
            "Processing index: 24\n",
            "Processing index: 25\n",
            "Processing index: 26\n",
            "Processing index: 27\n",
            "Processing index: 28\n",
            "Processing index: 29\n",
            "Processing index: 30\n",
            "Processing index: 31\n",
            "Processing index: 32\n",
            "Processing index: 33\n",
            "Processing index: 34\n",
            "Processing index: 35\n",
            "Processing index: 36\n",
            "Processing index: 37\n",
            "Processing index: 38\n",
            "Processing index: 39\n",
            "Processing index: 40\n",
            "Processing index: 41\n",
            "Processing index: 42\n",
            "Processing index: 43\n",
            "Processing index: 44\n",
            "Processing index: 45\n",
            "Processing index: 46\n",
            "Processing index: 47\n",
            "Processing index: 48\n",
            "Processing index: 49\n",
            "Processing index: 50\n",
            "Processing index: 51\n",
            "Processing index: 52\n",
            "Processing index: 53\n",
            "Processing index: 54\n",
            "Processing index: 55\n",
            "Processing index: 56\n"
          ]
        },
        {
          "output_type": "stream",
          "name": "stderr",
          "text": [
            "ERROR: [youtube] -1-tBHJnKu0: Private video. Sign in if you've been granted access to this video\n"
          ]
        },
        {
          "output_type": "stream",
          "name": "stdout",
          "text": [
            "Extractor Error: ERROR: [youtube] -1-tBHJnKu0: Private video. Sign in if you've been granted access to this video\n",
            "Processing index: 57\n",
            "Processing index: 58\n",
            "Processing index: 59\n",
            "Processing index: 60\n",
            "Processing index: 61\n",
            "Processing index: 62\n",
            "Processing index: 63\n",
            "Processing index: 64\n",
            "Processing index: 65\n",
            "Processing index: 66\n",
            "Processing index: 67\n",
            "Processing index: 68\n",
            "Processing index: 69\n",
            "Processing index: 70\n",
            "Processing index: 71\n",
            "Processing index: 72\n",
            "Processing index: 73\n",
            "Processing index: 74\n"
          ]
        },
        {
          "output_type": "stream",
          "name": "stderr",
          "text": [
            "ERROR: [youtube] -1dWGnhjB2A: Private video. Sign in if you've been granted access to this video\n"
          ]
        },
        {
          "output_type": "stream",
          "name": "stdout",
          "text": [
            "Extractor Error: ERROR: [youtube] -1dWGnhjB2A: Private video. Sign in if you've been granted access to this video\n",
            "Processing index: 75\n",
            "Processing index: 76\n"
          ]
        },
        {
          "output_type": "stream",
          "name": "stderr",
          "text": [
            "ERROR: [youtube] -1lKx46x_18: Private video. Sign in if you've been granted access to this video\n"
          ]
        },
        {
          "output_type": "stream",
          "name": "stdout",
          "text": [
            "Extractor Error: ERROR: [youtube] -1lKx46x_18: Private video. Sign in if you've been granted access to this video\n",
            "Processing index: 77\n",
            "Processing index: 78\n",
            "Processing index: 79\n",
            "Processing index: 80\n",
            "Processing index: 81\n",
            "Processing index: 82\n",
            "Processing index: 83\n",
            "Processing index: 84\n",
            "Processing index: 85\n"
          ]
        },
        {
          "output_type": "stream",
          "name": "stderr",
          "text": [
            "ERROR: [youtube] -22U1I2zQf4: Private video. Sign in if you've been granted access to this video\n"
          ]
        },
        {
          "output_type": "stream",
          "name": "stdout",
          "text": [
            "Extractor Error: ERROR: [youtube] -22U1I2zQf4: Private video. Sign in if you've been granted access to this video\n",
            "Processing index: 86\n",
            "Processing index: 87\n",
            "Processing index: 88\n",
            "Processing index: 89\n",
            "Processing index: 90\n",
            "Processing index: 91\n",
            "Processing index: 92\n",
            "Processing index: 93\n",
            "Processing index: 94\n",
            "Processing index: 95\n",
            "Processing index: 96\n",
            "Processing index: 97\n",
            "Processing index: 98\n",
            "Processing index: 99\n",
            "Processing index: 100\n",
            "Processing index: 101\n",
            "Processing index: 102\n",
            "Processing index: 103\n",
            "Processing index: 104\n",
            "Processing index: 105\n",
            "Processing index: 106\n",
            "Processing index: 107\n",
            "Processing index: 108\n",
            "Processing index: 109\n",
            "Processing index: 110\n",
            "Processing index: 111\n",
            "Processing index: 112\n",
            "Processing index: 113\n",
            "Processing index: 114\n",
            "Processing index: 115\n",
            "Processing index: 116\n",
            "Processing index: 117\n",
            "Processing index: 118\n",
            "Processing index: 119\n",
            "Processing index: 120\n",
            "Processing index: 121\n",
            "Processing index: 122\n",
            "Processing index: 123\n",
            "Processing index: 124\n",
            "Processing index: 125\n",
            "Processing index: 126\n",
            "Processing index: 127\n",
            "Processing index: 128\n",
            "Processing index: 129\n",
            "Processing index: 130\n",
            "Processing index: 131\n",
            "Processing index: 132\n",
            "Processing index: 133\n",
            "Processing index: 134\n",
            "Processing index: 135\n",
            "Processing index: 136\n",
            "Processing index: 137\n",
            "Processing index: 138\n",
            "Processing index: 139\n",
            "Processing index: 140\n",
            "Processing index: 141\n"
          ]
        },
        {
          "output_type": "stream",
          "name": "stderr",
          "text": [
            "ERROR: [youtube] -3g_TFW76GI: Private video. Sign in if you've been granted access to this video\n"
          ]
        },
        {
          "output_type": "stream",
          "name": "stdout",
          "text": [
            "Extractor Error: ERROR: [youtube] -3g_TFW76GI: Private video. Sign in if you've been granted access to this video\n",
            "Processing index: 142\n",
            "Processing index: 143\n",
            "Processing index: 144\n",
            "Processing index: 145\n",
            "Processing index: 146\n",
            "Processing index: 147\n",
            "Processing index: 148\n",
            "Processing index: 149\n",
            "Processing index: 150\n",
            "Processing index: 151\n"
          ]
        },
        {
          "output_type": "stream",
          "name": "stderr",
          "text": [
            "ERROR: [youtube] -3usVvvMGSY: Private video. Sign in if you've been granted access to this video\n"
          ]
        },
        {
          "output_type": "stream",
          "name": "stdout",
          "text": [
            "Extractor Error: ERROR: [youtube] -3usVvvMGSY: Private video. Sign in if you've been granted access to this video\n",
            "Processing index: 152\n",
            "Processing index: 153\n",
            "Processing index: 154\n",
            "Processing index: 155\n",
            "Processing index: 156\n",
            "Processing index: 157\n",
            "Processing index: 158\n",
            "Processing index: 159\n",
            "Processing index: 160\n"
          ]
        },
        {
          "output_type": "stream",
          "name": "stderr",
          "text": [
            "ERROR: [youtube] -48nAx22Iwk: Video unavailable. This video is no longer available because the YouTube account associated with this video has been terminated.\n"
          ]
        },
        {
          "output_type": "stream",
          "name": "stdout",
          "text": [
            "Extractor Error: ERROR: [youtube] -48nAx22Iwk: Video unavailable. This video is no longer available because the YouTube account associated with this video has been terminated.\n",
            "Processing index: 161\n",
            "Processing index: 162\n",
            "Processing index: 163\n",
            "Processing index: 164\n",
            "Processing index: 165\n",
            "Processing index: 166\n",
            "Processing index: 167\n",
            "Processing index: 168\n",
            "Processing index: 169\n",
            "Processing index: 170\n",
            "Processing index: 171\n",
            "Processing index: 172\n",
            "Processing index: 173\n",
            "Processing index: 174\n",
            "Processing index: 175\n",
            "Processing index: 176\n",
            "Processing index: 177\n",
            "Processing index: 178\n",
            "Processing index: 179\n",
            "Processing index: 180\n",
            "Processing index: 181\n",
            "Processing index: 182\n",
            "Processing index: 183\n",
            "Processing index: 184\n",
            "Processing index: 185\n",
            "Processing index: 186\n",
            "Processing index: 187\n",
            "Processing index: 188\n",
            "Processing index: 189\n",
            "Processing index: 190\n",
            "Processing index: 191\n",
            "Processing index: 192\n",
            "Processing index: 193\n",
            "Processing index: 194\n",
            "Processing index: 195\n"
          ]
        },
        {
          "output_type": "stream",
          "name": "stderr",
          "text": [
            "ERROR: [youtube] -50M_ypyDWw: Private video. Sign in if you've been granted access to this video\n"
          ]
        },
        {
          "output_type": "stream",
          "name": "stdout",
          "text": [
            "Extractor Error: ERROR: [youtube] -50M_ypyDWw: Private video. Sign in if you've been granted access to this video\n",
            "Processing index: 196\n",
            "Processing index: 197\n",
            "Processing index: 198\n",
            "Processing index: 199\n",
            "Processing index: 200\n",
            "Processing index: 201\n"
          ]
        },
        {
          "output_type": "stream",
          "name": "stderr",
          "text": [
            "WARNING: [youtube] Invalid start time (922.0 < 0) for chapter \"Proverbs\"\n"
          ]
        },
        {
          "output_type": "stream",
          "name": "stdout",
          "text": [
            "Processing index: 202\n",
            "Processing index: 203\n",
            "Processing index: 204\n",
            "Processing index: 205\n",
            "Processing index: 206\n"
          ]
        },
        {
          "output_type": "stream",
          "name": "stderr",
          "text": [
            "ERROR: [youtube] -5E7gmuQ1D8: Private video. Sign in if you've been granted access to this video\n"
          ]
        },
        {
          "output_type": "stream",
          "name": "stdout",
          "text": [
            "Extractor Error: ERROR: [youtube] -5E7gmuQ1D8: Private video. Sign in if you've been granted access to this video\n",
            "Processing index: 207\n",
            "Processing index: 208\n",
            "Processing index: 209\n",
            "Processing index: 210\n",
            "Processing index: 211\n",
            "Processing index: 212\n",
            "Processing index: 213\n",
            "Processing index: 214\n",
            "Processing index: 215\n",
            "Processing index: 216\n",
            "Processing index: 217\n",
            "Processing index: 218\n",
            "Processing index: 219\n",
            "Processing index: 220\n",
            "Processing index: 221\n",
            "Processing index: 222\n",
            "Processing index: 223\n",
            "Processing index: 224\n",
            "Processing index: 225\n",
            "Processing index: 226\n",
            "Processing index: 227\n",
            "Processing index: 228\n",
            "Processing index: 229\n",
            "Processing index: 230\n",
            "Processing index: 231\n",
            "Processing index: 232\n",
            "Processing index: 233\n"
          ]
        },
        {
          "output_type": "stream",
          "name": "stderr",
          "text": [
            "ERROR: [youtube] -5rZ-3xLUEc: Video unavailable. This video contains content from SME, who has blocked it in your country on copyright grounds\n"
          ]
        },
        {
          "output_type": "stream",
          "name": "stdout",
          "text": [
            "Extractor Error: ERROR: [youtube] -5rZ-3xLUEc: Video unavailable. This video contains content from SME, who has blocked it in your country on copyright grounds\n",
            "Processing index: 234\n",
            "Processing index: 235\n",
            "Processing index: 236\n",
            "Processing index: 237\n",
            "Processing index: 238\n",
            "Processing index: 239\n",
            "Processing index: 240\n",
            "Processing index: 241\n",
            "Processing index: 242\n",
            "Processing index: 243\n",
            "Processing index: 244\n",
            "Processing index: 245\n",
            "Processing index: 246\n",
            "Processing index: 247\n",
            "Processing index: 248\n",
            "Processing index: 249\n",
            "Processing index: 250\n",
            "Processing index: 251\n",
            "Processing index: 252\n",
            "Processing index: 253\n",
            "Processing index: 254\n",
            "Processing index: 255\n"
          ]
        },
        {
          "output_type": "stream",
          "name": "stderr",
          "text": [
            "ERROR: [youtube] -6VoGglIU3o: Private video. Sign in if you've been granted access to this video\n"
          ]
        },
        {
          "output_type": "stream",
          "name": "stdout",
          "text": [
            "Extractor Error: ERROR: [youtube] -6VoGglIU3o: Private video. Sign in if you've been granted access to this video\n",
            "Processing index: 256\n"
          ]
        },
        {
          "output_type": "stream",
          "name": "stderr",
          "text": [
            "ERROR: [youtube] -6VzhYhWDMY: Private video. Sign in if you've been granted access to this video\n"
          ]
        },
        {
          "output_type": "stream",
          "name": "stdout",
          "text": [
            "Extractor Error: ERROR: [youtube] -6VzhYhWDMY: Private video. Sign in if you've been granted access to this video\n",
            "Processing index: 257\n",
            "Processing index: 258\n",
            "Processing index: 259\n",
            "Processing index: 260\n",
            "Processing index: 261\n",
            "Processing index: 262\n",
            "Processing index: 263\n",
            "Processing index: 264\n",
            "Processing index: 265\n",
            "Processing index: 266\n",
            "Processing index: 267\n"
          ]
        },
        {
          "output_type": "stream",
          "name": "stderr",
          "text": [
            "ERROR: [youtube] -6oPU9T5y1I: Private video. Sign in if you've been granted access to this video\n"
          ]
        },
        {
          "output_type": "stream",
          "name": "stdout",
          "text": [
            "Extractor Error: ERROR: [youtube] -6oPU9T5y1I: Private video. Sign in if you've been granted access to this video\n",
            "Processing index: 268\n",
            "Processing index: 269\n",
            "Processing index: 270\n",
            "Processing index: 271\n",
            "Processing index: 272\n",
            "Processing index: 273\n",
            "Processing index: 274\n",
            "Processing index: 275\n",
            "Processing index: 276\n",
            "Processing index: 277\n"
          ]
        },
        {
          "output_type": "stream",
          "name": "stderr",
          "text": [
            "ERROR: [youtube] -6wkYqjFei0: Private video. Sign in if you've been granted access to this video\n"
          ]
        },
        {
          "output_type": "stream",
          "name": "stdout",
          "text": [
            "Extractor Error: ERROR: [youtube] -6wkYqjFei0: Private video. Sign in if you've been granted access to this video\n",
            "Processing index: 278\n",
            "Processing index: 279\n",
            "Processing index: 280\n",
            "Processing index: 281\n",
            "Processing index: 282\n",
            "Processing index: 283\n",
            "Processing index: 284\n",
            "Processing index: 285\n"
          ]
        },
        {
          "output_type": "stream",
          "name": "stderr",
          "text": [
            "ERROR: [youtube] -73SX7Svd2g: Private video. Sign in if you've been granted access to this video\n"
          ]
        },
        {
          "output_type": "stream",
          "name": "stdout",
          "text": [
            "Extractor Error: ERROR: [youtube] -73SX7Svd2g: Private video. Sign in if you've been granted access to this video\n",
            "Processing index: 286\n",
            "Processing index: 287\n",
            "Processing index: 288\n",
            "Processing index: 289\n",
            "Processing index: 290\n",
            "Processing index: 291\n",
            "Processing index: 292\n",
            "Processing index: 293\n",
            "Processing index: 294\n",
            "Processing index: 295\n",
            "Processing index: 296\n",
            "Processing index: 297\n",
            "Processing index: 298\n",
            "Processing index: 299\n",
            "Processing index: 300\n",
            "Processing index: 301\n",
            "Processing index: 302\n",
            "Processing index: 303\n",
            "Processing index: 304\n",
            "Processing index: 305\n"
          ]
        },
        {
          "output_type": "stream",
          "name": "stderr",
          "text": [
            "ERROR: [youtube] -7lxDPdoTB0: Private video. Sign in if you've been granted access to this video\n"
          ]
        },
        {
          "output_type": "stream",
          "name": "stdout",
          "text": [
            "Extractor Error: ERROR: [youtube] -7lxDPdoTB0: Private video. Sign in if you've been granted access to this video\n",
            "Processing index: 306\n",
            "Processing index: 307\n",
            "Processing index: 308\n",
            "Processing index: 309\n",
            "Processing index: 310\n",
            "Processing index: 311\n",
            "Processing index: 312\n",
            "Processing index: 313\n",
            "Processing index: 314\n",
            "Processing index: 315\n",
            "Processing index: 316\n"
          ]
        },
        {
          "output_type": "stream",
          "name": "stderr",
          "text": [
            "ERROR: [youtube] -7wX0TAcnwc: Private video. Sign in if you've been granted access to this video\n"
          ]
        },
        {
          "output_type": "stream",
          "name": "stdout",
          "text": [
            "Extractor Error: ERROR: [youtube] -7wX0TAcnwc: Private video. Sign in if you've been granted access to this video\n",
            "Processing index: 317\n",
            "Processing index: 318\n",
            "Processing index: 319\n",
            "Processing index: 320\n",
            "Processing index: 321\n",
            "Processing index: 322\n"
          ]
        },
        {
          "output_type": "stream",
          "name": "stderr",
          "text": [
            "ERROR: [youtube] -81JqO-EIo8: Private video. Sign in if you've been granted access to this video\n"
          ]
        },
        {
          "output_type": "stream",
          "name": "stdout",
          "text": [
            "Extractor Error: ERROR: [youtube] -81JqO-EIo8: Private video. Sign in if you've been granted access to this video\n",
            "Processing index: 323\n",
            "Processing index: 324\n",
            "Processing index: 325\n",
            "Processing index: 326\n",
            "Processing index: 327\n",
            "Processing index: 328\n",
            "Processing index: 329\n",
            "Processing index: 330\n",
            "Processing index: 331\n",
            "Processing index: 332\n",
            "Processing index: 333\n",
            "Processing index: 334\n"
          ]
        },
        {
          "output_type": "stream",
          "name": "stderr",
          "text": [
            "ERROR: [youtube] -8M6XG8uP_o: Private video. Sign in if you've been granted access to this video\n"
          ]
        },
        {
          "output_type": "stream",
          "name": "stdout",
          "text": [
            "Extractor Error: ERROR: [youtube] -8M6XG8uP_o: Private video. Sign in if you've been granted access to this video\n",
            "Processing index: 335\n",
            "Processing index: 336\n",
            "Processing index: 337\n",
            "Processing index: 338\n",
            "Processing index: 339\n",
            "Processing index: 340\n",
            "Processing index: 341\n",
            "Processing index: 342\n",
            "Processing index: 343\n",
            "Processing index: 344\n",
            "Processing index: 345\n",
            "Processing index: 346\n",
            "Processing index: 347\n",
            "Processing index: 348\n",
            "Processing index: 349\n"
          ]
        },
        {
          "output_type": "stream",
          "name": "stderr",
          "text": [
            "ERROR: [youtube] -8k3AnXTBD8: Private video. Sign in if you've been granted access to this video\n"
          ]
        },
        {
          "output_type": "stream",
          "name": "stdout",
          "text": [
            "Extractor Error: ERROR: [youtube] -8k3AnXTBD8: Private video. Sign in if you've been granted access to this video\n",
            "Processing index: 350\n",
            "Processing index: 351\n"
          ]
        },
        {
          "output_type": "stream",
          "name": "stderr",
          "text": [
            "ERROR: [youtube] -8khhEKByEM: Private video. Sign in if you've been granted access to this video\n"
          ]
        },
        {
          "output_type": "stream",
          "name": "stdout",
          "text": [
            "Extractor Error: ERROR: [youtube] -8khhEKByEM: Private video. Sign in if you've been granted access to this video\n",
            "Processing index: 352\n",
            "Processing index: 353\n",
            "Processing index: 354\n",
            "Processing index: 355\n",
            "Processing index: 356\n",
            "Processing index: 357\n"
          ]
        },
        {
          "output_type": "stream",
          "name": "stderr",
          "text": [
            "ERROR: [youtube] -8rCdhZK7rE: Private video. Sign in if you've been granted access to this video\n"
          ]
        },
        {
          "output_type": "stream",
          "name": "stdout",
          "text": [
            "Extractor Error: ERROR: [youtube] -8rCdhZK7rE: Private video. Sign in if you've been granted access to this video\n",
            "Processing index: 358\n"
          ]
        },
        {
          "output_type": "stream",
          "name": "stderr",
          "text": [
            "ERROR: [youtube] -8x0TiXShoE: Video unavailable. This video is no longer available because the YouTube account associated with this video has been terminated.\n"
          ]
        },
        {
          "output_type": "stream",
          "name": "stdout",
          "text": [
            "Extractor Error: ERROR: [youtube] -8x0TiXShoE: Video unavailable. This video is no longer available because the YouTube account associated with this video has been terminated.\n",
            "Processing index: 359\n",
            "Processing index: 360\n",
            "Processing index: 361\n",
            "Processing index: 362\n"
          ]
        },
        {
          "output_type": "stream",
          "name": "stderr",
          "text": [
            "ERROR: [youtube] -90YUx0XA2w: Video unavailable. This video is no longer available because the YouTube account associated with this video has been terminated.\n"
          ]
        },
        {
          "output_type": "stream",
          "name": "stdout",
          "text": [
            "Extractor Error: ERROR: [youtube] -90YUx0XA2w: Video unavailable. This video is no longer available because the YouTube account associated with this video has been terminated.\n",
            "Processing index: 363\n",
            "Processing index: 364\n",
            "Processing index: 365\n",
            "Processing index: 366\n"
          ]
        },
        {
          "output_type": "stream",
          "name": "stderr",
          "text": [
            "ERROR: [youtube] -98DdKiwFi0: Private video. Sign in if you've been granted access to this video\n"
          ]
        },
        {
          "output_type": "stream",
          "name": "stdout",
          "text": [
            "Extractor Error: ERROR: [youtube] -98DdKiwFi0: Private video. Sign in if you've been granted access to this video\n",
            "Processing index: 367\n",
            "Processing index: 368\n",
            "Processing index: 369\n",
            "Processing index: 370\n",
            "Processing index: 371\n",
            "Processing index: 372\n",
            "Processing index: 373\n",
            "Processing index: 374\n",
            "Processing index: 375\n",
            "Processing index: 376\n",
            "Processing index: 377\n",
            "Processing index: 378\n",
            "Processing index: 379\n",
            "Processing index: 380\n",
            "Processing index: 381\n",
            "Processing index: 382\n",
            "Processing index: 383\n",
            "Processing index: 384\n",
            "Processing index: 385\n",
            "Processing index: 386\n",
            "Processing index: 387\n",
            "Processing index: 388\n",
            "Processing index: 389\n",
            "Processing index: 390\n",
            "Processing index: 391\n",
            "Processing index: 392\n",
            "Processing index: 393\n",
            "Processing index: 394\n",
            "Processing index: 395\n",
            "Processing index: 396\n",
            "Processing index: 397\n",
            "Processing index: 398\n",
            "Processing index: 399\n",
            "Processing index: 400\n",
            "Processing index: 401\n",
            "Processing index: 402\n",
            "Processing index: 403\n",
            "Processing index: 404\n",
            "Processing index: 405\n",
            "Processing index: 406\n",
            "Processing index: 407\n",
            "Processing index: 408\n",
            "Processing index: 409\n",
            "Processing index: 410\n",
            "Processing index: 411\n",
            "Processing index: 412\n",
            "Processing index: 413\n",
            "Processing index: 414\n",
            "Processing index: 415\n",
            "Processing index: 416\n",
            "Processing index: 417\n",
            "Processing index: 418\n",
            "Processing index: 419\n",
            "Processing index: 420\n",
            "Processing index: 421\n",
            "Processing index: 422\n",
            "Processing index: 423\n",
            "Processing index: 424\n",
            "Processing index: 425\n",
            "Processing index: 426\n",
            "Processing index: 427\n",
            "Processing index: 428\n",
            "Processing index: 429\n",
            "Processing index: 430\n",
            "Processing index: 431\n"
          ]
        },
        {
          "output_type": "stream",
          "name": "stderr",
          "text": [
            "ERROR: [youtube] -AexQV9MrLo: Private video. Sign in if you've been granted access to this video\n"
          ]
        },
        {
          "output_type": "stream",
          "name": "stdout",
          "text": [
            "Extractor Error: ERROR: [youtube] -AexQV9MrLo: Private video. Sign in if you've been granted access to this video\n",
            "Processing index: 432\n",
            "Processing index: 433\n",
            "Processing index: 434\n",
            "Processing index: 435\n",
            "Processing index: 436\n",
            "Processing index: 437\n",
            "Processing index: 438\n",
            "Processing index: 439\n",
            "Processing index: 440\n"
          ]
        },
        {
          "output_type": "stream",
          "name": "stderr",
          "text": [
            "ERROR: [youtube] -Av_nD6hvzo: Private video. Sign in if you've been granted access to this video\n"
          ]
        },
        {
          "output_type": "stream",
          "name": "stdout",
          "text": [
            "Extractor Error: ERROR: [youtube] -Av_nD6hvzo: Private video. Sign in if you've been granted access to this video\n",
            "Processing index: 441\n",
            "Processing index: 442\n",
            "Processing index: 443\n",
            "Processing index: 444\n",
            "Processing index: 445\n",
            "Processing index: 446\n",
            "Processing index: 447\n",
            "Processing index: 448\n",
            "Processing index: 449\n",
            "Processing index: 450\n",
            "Processing index: 451\n",
            "Processing index: 452\n",
            "Processing index: 453\n",
            "Processing index: 454\n",
            "Processing index: 455\n",
            "Processing index: 456\n",
            "Processing index: 457\n",
            "Processing index: 458\n",
            "Processing index: 459\n",
            "Processing index: 460\n",
            "Processing index: 461\n",
            "Processing index: 462\n"
          ]
        },
        {
          "output_type": "stream",
          "name": "stderr",
          "text": [
            "WARNING: [youtube] -BObqwyrRSs: Some formats are possibly damaged. They will be deprioritized\n"
          ]
        },
        {
          "output_type": "stream",
          "name": "stdout",
          "text": [
            "Processing index: 463\n",
            "Processing index: 464\n",
            "Processing index: 465\n",
            "Processing index: 466\n",
            "Processing index: 467\n"
          ]
        },
        {
          "output_type": "stream",
          "name": "stderr",
          "text": [
            "ERROR: [youtube] -BewRPAXatY: Private video. Sign in if you've been granted access to this video\n"
          ]
        },
        {
          "output_type": "stream",
          "name": "stdout",
          "text": [
            "Extractor Error: ERROR: [youtube] -BewRPAXatY: Private video. Sign in if you've been granted access to this video\n",
            "Processing index: 468\n",
            "Processing index: 469\n",
            "Processing index: 470\n",
            "Processing index: 471\n",
            "Processing index: 472\n",
            "Processing index: 473\n",
            "Processing index: 474\n",
            "Processing index: 475\n",
            "Processing index: 476\n",
            "Processing index: 477\n"
          ]
        },
        {
          "output_type": "stream",
          "name": "stderr",
          "text": [
            "ERROR: [youtube] -BptOURMao8: Private video. Sign in if you've been granted access to this video\n"
          ]
        },
        {
          "output_type": "stream",
          "name": "stdout",
          "text": [
            "Extractor Error: ERROR: [youtube] -BptOURMao8: Private video. Sign in if you've been granted access to this video\n",
            "Processing index: 478\n",
            "Processing index: 479\n",
            "Processing index: 480\n",
            "Processing index: 481\n"
          ]
        },
        {
          "output_type": "stream",
          "name": "stderr",
          "text": [
            "ERROR: [youtube] -C31RA1mTNM: Video unavailable. This video is no longer available because the YouTube account associated with this video has been terminated.\n"
          ]
        },
        {
          "output_type": "stream",
          "name": "stdout",
          "text": [
            "Extractor Error: ERROR: [youtube] -C31RA1mTNM: Video unavailable. This video is no longer available because the YouTube account associated with this video has been terminated.\n",
            "Processing index: 482\n",
            "Processing index: 483\n",
            "Processing index: 484\n",
            "Processing index: 485\n",
            "Processing index: 486\n",
            "Processing index: 487\n"
          ]
        },
        {
          "output_type": "stream",
          "name": "stderr",
          "text": [
            "ERROR: [youtube] -CDYMieF_a0: Video unavailable. This video is no longer available because the YouTube account associated with this video has been terminated.\n"
          ]
        },
        {
          "output_type": "stream",
          "name": "stdout",
          "text": [
            "Extractor Error: ERROR: [youtube] -CDYMieF_a0: Video unavailable. This video is no longer available because the YouTube account associated with this video has been terminated.\n",
            "Processing index: 488\n",
            "Processing index: 489\n",
            "Processing index: 490\n",
            "Processing index: 491\n",
            "Processing index: 492\n",
            "Processing index: 493\n",
            "Processing index: 494\n",
            "Processing index: 495\n",
            "Processing index: 496\n",
            "Processing index: 497\n"
          ]
        },
        {
          "output_type": "stream",
          "name": "stderr",
          "text": [
            "ERROR: [youtube] -CQ7GWxuEUc: Private video. Sign in if you've been granted access to this video\n"
          ]
        },
        {
          "output_type": "stream",
          "name": "stdout",
          "text": [
            "Extractor Error: ERROR: [youtube] -CQ7GWxuEUc: Private video. Sign in if you've been granted access to this video\n",
            "Processing index: 498\n",
            "Processing index: 499\n",
            "Processing index: 500\n",
            "Processing index: 501\n",
            "Processing index: 502\n"
          ]
        },
        {
          "output_type": "stream",
          "name": "stderr",
          "text": [
            "ERROR: [youtube] -CTvtfED6Ak: Private video. Sign in if you've been granted access to this video\n"
          ]
        },
        {
          "output_type": "stream",
          "name": "stdout",
          "text": [
            "Extractor Error: ERROR: [youtube] -CTvtfED6Ak: Private video. Sign in if you've been granted access to this video\n",
            "Processing index: 503\n",
            "Processing index: 504\n",
            "Processing index: 505\n",
            "Processing index: 506\n",
            "Processing index: 507\n",
            "Processing index: 508\n",
            "Processing index: 509\n",
            "Processing index: 510\n",
            "Processing index: 511\n",
            "Processing index: 512\n",
            "Processing index: 513\n",
            "Processing index: 514\n",
            "Processing index: 515\n",
            "Processing index: 516\n",
            "Processing index: 517\n",
            "Processing index: 518\n",
            "Processing index: 519\n",
            "Processing index: 520\n",
            "Processing index: 521\n"
          ]
        },
        {
          "output_type": "stream",
          "name": "stderr",
          "text": [
            "ERROR: [youtube] -CuDMAzj4AE: Video unavailable. This video is no longer available because the YouTube account associated with this video has been terminated.\n"
          ]
        },
        {
          "output_type": "stream",
          "name": "stdout",
          "text": [
            "Extractor Error: ERROR: [youtube] -CuDMAzj4AE: Video unavailable. This video is no longer available because the YouTube account associated with this video has been terminated.\n",
            "Processing index: 522\n",
            "Processing index: 523\n",
            "Processing index: 524\n",
            "Processing index: 525\n",
            "Processing index: 526\n",
            "Processing index: 527\n",
            "Processing index: 528\n",
            "Processing index: 529\n",
            "Processing index: 530\n",
            "Processing index: 531\n",
            "Processing index: 532\n",
            "Processing index: 533\n",
            "Processing index: 534\n",
            "Processing index: 535\n",
            "Processing index: 536\n",
            "Processing index: 537\n",
            "Processing index: 538\n",
            "Processing index: 539\n",
            "Processing index: 540\n",
            "Processing index: 541\n",
            "Processing index: 542\n",
            "Processing index: 543\n",
            "Processing index: 544\n",
            "Processing index: 545\n",
            "Processing index: 546\n"
          ]
        },
        {
          "output_type": "stream",
          "name": "stderr",
          "text": [
            "ERROR: [youtube] -DWNUwTH1k8: Private video. Sign in if you've been granted access to this video\n"
          ]
        },
        {
          "output_type": "stream",
          "name": "stdout",
          "text": [
            "Extractor Error: ERROR: [youtube] -DWNUwTH1k8: Private video. Sign in if you've been granted access to this video\n",
            "Processing index: 547\n",
            "Processing index: 548\n"
          ]
        },
        {
          "output_type": "stream",
          "name": "stderr",
          "text": [
            "ERROR: [youtube] -DZeoj_11pU: Private video. Sign in if you've been granted access to this video\n"
          ]
        },
        {
          "output_type": "stream",
          "name": "stdout",
          "text": [
            "Extractor Error: ERROR: [youtube] -DZeoj_11pU: Private video. Sign in if you've been granted access to this video\n",
            "Processing index: 549\n",
            "Processing index: 550\n",
            "Processing index: 551\n",
            "Processing index: 552\n",
            "Processing index: 553\n",
            "Processing index: 554\n",
            "Processing index: 555\n",
            "Processing index: 556\n",
            "Processing index: 557\n"
          ]
        },
        {
          "output_type": "stream",
          "name": "stderr",
          "text": [
            "ERROR: [youtube] -DsMpC5_-c4: Private video. Sign in if you've been granted access to this video\n"
          ]
        },
        {
          "output_type": "stream",
          "name": "stdout",
          "text": [
            "Extractor Error: ERROR: [youtube] -DsMpC5_-c4: Private video. Sign in if you've been granted access to this video\n",
            "Processing index: 558\n",
            "Processing index: 559\n",
            "Processing index: 560\n",
            "Processing index: 561\n",
            "Processing index: 562\n",
            "Processing index: 563\n",
            "Processing index: 564\n",
            "Processing index: 565\n",
            "Processing index: 566\n"
          ]
        },
        {
          "output_type": "stream",
          "name": "stderr",
          "text": [
            "ERROR: [youtube] -EA4rZuZRhI: Private video. Sign in if you've been granted access to this video\n"
          ]
        },
        {
          "output_type": "stream",
          "name": "stdout",
          "text": [
            "Extractor Error: ERROR: [youtube] -EA4rZuZRhI: Private video. Sign in if you've been granted access to this video\n",
            "Processing index: 567\n",
            "Processing index: 568\n",
            "Processing index: 569\n",
            "Processing index: 570\n",
            "Processing index: 571\n",
            "Processing index: 572\n",
            "Processing index: 573\n",
            "Processing index: 574\n",
            "Processing index: 575\n",
            "Processing index: 576\n",
            "Processing index: 577\n",
            "Processing index: 578\n",
            "Processing index: 579\n",
            "Processing index: 580\n",
            "Processing index: 581\n",
            "Processing index: 582\n",
            "Processing index: 583\n",
            "Processing index: 584\n",
            "Processing index: 585\n"
          ]
        },
        {
          "output_type": "stream",
          "name": "stderr",
          "text": [
            "ERROR: [youtube] -EnEIcYNn9Y: Private video. Sign in if you've been granted access to this video\n"
          ]
        },
        {
          "output_type": "stream",
          "name": "stdout",
          "text": [
            "Extractor Error: ERROR: [youtube] -EnEIcYNn9Y: Private video. Sign in if you've been granted access to this video\n",
            "Processing index: 586\n",
            "Processing index: 587\n",
            "Processing index: 588\n",
            "Processing index: 589\n",
            "Processing index: 590\n"
          ]
        },
        {
          "output_type": "stream",
          "name": "stderr",
          "text": [
            "ERROR: [youtube] -EwnDeu0BFw: Private video. Sign in if you've been granted access to this video\n"
          ]
        },
        {
          "output_type": "stream",
          "name": "stdout",
          "text": [
            "Extractor Error: ERROR: [youtube] -EwnDeu0BFw: Private video. Sign in if you've been granted access to this video\n",
            "Processing index: 591\n",
            "Processing index: 592\n",
            "Processing index: 593\n",
            "Processing index: 594\n"
          ]
        },
        {
          "output_type": "stream",
          "name": "stderr",
          "text": [
            "ERROR: [youtube] -F3sjyWT0ts: Private video. Sign in if you've been granted access to this video\n"
          ]
        },
        {
          "output_type": "stream",
          "name": "stdout",
          "text": [
            "Extractor Error: ERROR: [youtube] -F3sjyWT0ts: Private video. Sign in if you've been granted access to this video\n",
            "Processing index: 595\n",
            "Processing index: 596\n",
            "Processing index: 597\n"
          ]
        },
        {
          "output_type": "stream",
          "name": "stderr",
          "text": [
            "ERROR: [youtube] -F9CiROL8dg: This video has been removed for violating YouTube's Community Guidelines\n"
          ]
        },
        {
          "output_type": "stream",
          "name": "stdout",
          "text": [
            "Extractor Error: ERROR: [youtube] -F9CiROL8dg: This video has been removed for violating YouTube's Community Guidelines\n",
            "Processing index: 598\n",
            "Processing index: 599\n",
            "Processing index: 600\n",
            "Processing index: 601\n",
            "Processing index: 602\n",
            "Processing index: 603\n",
            "Processing index: 604\n",
            "Processing index: 605\n",
            "Processing index: 606\n",
            "Processing index: 607\n",
            "Processing index: 608\n",
            "Processing index: 609\n",
            "Processing index: 610\n",
            "Processing index: 611\n"
          ]
        },
        {
          "output_type": "stream",
          "name": "stderr",
          "text": [
            "ERROR: [youtube] -FX7AD8Z2lc: Video unavailable. This video is no longer available because the YouTube account associated with this video has been terminated.\n"
          ]
        },
        {
          "output_type": "stream",
          "name": "stdout",
          "text": [
            "Extractor Error: ERROR: [youtube] -FX7AD8Z2lc: Video unavailable. This video is no longer available because the YouTube account associated with this video has been terminated.\n",
            "Processing index: 612\n",
            "Processing index: 613\n",
            "Processing index: 614\n",
            "Processing index: 615\n",
            "Processing index: 616\n",
            "Processing index: 617\n",
            "Processing index: 618\n",
            "Processing index: 619\n"
          ]
        },
        {
          "output_type": "stream",
          "name": "stderr",
          "text": [
            "ERROR: [youtube] -Fdh0lnvEk4: Private video. Sign in if you've been granted access to this video\n"
          ]
        },
        {
          "output_type": "stream",
          "name": "stdout",
          "text": [
            "Extractor Error: ERROR: [youtube] -Fdh0lnvEk4: Private video. Sign in if you've been granted access to this video\n",
            "Processing index: 620\n",
            "Processing index: 621\n",
            "Processing index: 622\n",
            "Processing index: 623\n"
          ]
        },
        {
          "output_type": "stream",
          "name": "stderr",
          "text": [
            "ERROR: [youtube] -FmQWfbHeEw: Private video. Sign in if you've been granted access to this video\n"
          ]
        },
        {
          "output_type": "stream",
          "name": "stdout",
          "text": [
            "Extractor Error: ERROR: [youtube] -FmQWfbHeEw: Private video. Sign in if you've been granted access to this video\n",
            "Processing index: 624\n",
            "Processing index: 625\n",
            "Processing index: 626\n",
            "Processing index: 627\n",
            "Processing index: 628\n",
            "Processing index: 629\n",
            "Processing index: 630\n",
            "Processing index: 631\n",
            "Processing index: 632\n",
            "Processing index: 633\n",
            "Processing index: 634\n",
            "Processing index: 635\n",
            "Processing index: 636\n",
            "Processing index: 637\n",
            "Processing index: 638\n",
            "Processing index: 639\n",
            "Processing index: 640\n",
            "Processing index: 641\n",
            "Processing index: 642\n",
            "Processing index: 643\n",
            "Processing index: 644\n",
            "Processing index: 645\n",
            "Processing index: 646\n",
            "Processing index: 647\n"
          ]
        },
        {
          "output_type": "stream",
          "name": "stderr",
          "text": [
            "ERROR: [youtube] -GHljetcig4: Video unavailable. This video is no longer available because the YouTube account associated with this video has been terminated.\n"
          ]
        },
        {
          "output_type": "stream",
          "name": "stdout",
          "text": [
            "Extractor Error: ERROR: [youtube] -GHljetcig4: Video unavailable. This video is no longer available because the YouTube account associated with this video has been terminated.\n",
            "Processing index: 648\n",
            "Processing index: 649\n",
            "Processing index: 650\n",
            "Processing index: 651\n"
          ]
        },
        {
          "output_type": "stream",
          "name": "stderr",
          "text": [
            "ERROR: [youtube] -GL4Rp-F50k: Private video. Sign in if you've been granted access to this video\n"
          ]
        },
        {
          "output_type": "stream",
          "name": "stdout",
          "text": [
            "Extractor Error: ERROR: [youtube] -GL4Rp-F50k: Private video. Sign in if you've been granted access to this video\n",
            "Processing index: 652\n",
            "Processing index: 653\n"
          ]
        },
        {
          "output_type": "stream",
          "name": "stderr",
          "text": [
            "ERROR: [youtube] -GMkZDHx5jg: Video unavailable. This video is no longer available because the YouTube account associated with this video has been terminated.\n"
          ]
        },
        {
          "output_type": "stream",
          "name": "stdout",
          "text": [
            "Extractor Error: ERROR: [youtube] -GMkZDHx5jg: Video unavailable. This video is no longer available because the YouTube account associated with this video has been terminated.\n",
            "Processing index: 654\n",
            "Processing index: 655\n",
            "Processing index: 656\n",
            "Processing index: 657\n",
            "Processing index: 658\n",
            "Processing index: 659\n"
          ]
        },
        {
          "output_type": "stream",
          "name": "stderr",
          "text": [
            "ERROR: [youtube] -GbUR6K-Q5M: Private video. Sign in if you've been granted access to this video\n"
          ]
        },
        {
          "output_type": "stream",
          "name": "stdout",
          "text": [
            "Extractor Error: ERROR: [youtube] -GbUR6K-Q5M: Private video. Sign in if you've been granted access to this video\n",
            "Processing index: 660\n",
            "Processing index: 661\n",
            "Processing index: 662\n",
            "Processing index: 663\n",
            "Processing index: 664\n",
            "Processing index: 665\n",
            "Processing index: 666\n",
            "Processing index: 667\n",
            "Processing index: 668\n",
            "Processing index: 669\n",
            "Processing index: 670\n",
            "Processing index: 671\n",
            "Processing index: 672\n",
            "Processing index: 673\n",
            "Processing index: 674\n",
            "Processing index: 675\n",
            "Processing index: 676\n",
            "Processing index: 677\n",
            "Processing index: 678\n",
            "Processing index: 679\n",
            "Processing index: 680\n",
            "Processing index: 681\n",
            "Processing index: 682\n",
            "Processing index: 683\n",
            "Processing index: 684\n",
            "Processing index: 685\n",
            "Processing index: 686\n",
            "Processing index: 687\n",
            "Processing index: 688\n",
            "Processing index: 689\n"
          ]
        },
        {
          "output_type": "stream",
          "name": "stderr",
          "text": [
            "ERROR: [youtube] -HQYQtBB57w: This video has been removed for violating YouTube's Community Guidelines\n"
          ]
        },
        {
          "output_type": "stream",
          "name": "stdout",
          "text": [
            "Extractor Error: ERROR: [youtube] -HQYQtBB57w: This video has been removed for violating YouTube's Community Guidelines\n",
            "Processing index: 690\n",
            "Processing index: 691\n",
            "Processing index: 692\n",
            "Processing index: 693\n"
          ]
        },
        {
          "output_type": "stream",
          "name": "stderr",
          "text": [
            "ERROR: [youtube] -HZgX7HmcHg: Video unavailable. This video is no longer available because the YouTube account associated with this video has been terminated.\n"
          ]
        },
        {
          "output_type": "stream",
          "name": "stdout",
          "text": [
            "Extractor Error: ERROR: [youtube] -HZgX7HmcHg: Video unavailable. This video is no longer available because the YouTube account associated with this video has been terminated.\n",
            "Processing index: 694\n",
            "Processing index: 695\n",
            "Processing index: 696\n",
            "Processing index: 697\n",
            "Processing index: 698\n"
          ]
        },
        {
          "output_type": "stream",
          "name": "stderr",
          "text": [
            "ERROR: [youtube] -HkrU56u7nQ: Video unavailable. This video is no longer available because the YouTube account associated with this video has been terminated.\n"
          ]
        },
        {
          "output_type": "stream",
          "name": "stdout",
          "text": [
            "Extractor Error: ERROR: [youtube] -HkrU56u7nQ: Video unavailable. This video is no longer available because the YouTube account associated with this video has been terminated.\n",
            "Processing index: 699\n",
            "Processing index: 700\n",
            "Processing index: 701\n",
            "Processing index: 702\n",
            "Processing index: 703\n",
            "Processing index: 704\n"
          ]
        },
        {
          "output_type": "stream",
          "name": "stderr",
          "text": [
            "ERROR: [youtube] -HttSia1uHE: Video unavailable\n"
          ]
        },
        {
          "output_type": "stream",
          "name": "stdout",
          "text": [
            "Extractor Error: ERROR: [youtube] -HttSia1uHE: Video unavailable\n",
            "Processing index: 705\n",
            "Processing index: 706\n",
            "Processing index: 707\n",
            "Processing index: 708\n",
            "Processing index: 709\n",
            "Processing index: 710\n",
            "Processing index: 711\n",
            "Processing index: 712\n",
            "Processing index: 713\n",
            "Processing index: 714\n",
            "Processing index: 715\n",
            "Processing index: 716\n",
            "Processing index: 717\n",
            "Processing index: 718\n",
            "Processing index: 719\n",
            "Processing index: 720\n",
            "Processing index: 721\n",
            "Processing index: 722\n",
            "Processing index: 723\n",
            "Processing index: 724\n",
            "Processing index: 725\n",
            "Processing index: 726\n",
            "Processing index: 727\n",
            "Processing index: 728\n",
            "Processing index: 729\n",
            "Processing index: 730\n",
            "Processing index: 731\n",
            "Processing index: 732\n",
            "Processing index: 733\n",
            "Processing index: 734\n",
            "Processing index: 735\n",
            "Processing index: 736\n",
            "Processing index: 737\n",
            "Processing index: 738\n",
            "Processing index: 739\n",
            "Processing index: 740\n",
            "Processing index: 741\n",
            "Processing index: 742\n",
            "Processing index: 743\n",
            "Processing index: 744\n",
            "Processing index: 745\n",
            "Processing index: 746\n",
            "Processing index: 747\n",
            "Processing index: 748\n",
            "Processing index: 749\n",
            "Processing index: 750\n",
            "Processing index: 751\n",
            "Processing index: 752\n",
            "Processing index: 753\n",
            "Processing index: 754\n",
            "Processing index: 755\n",
            "Processing index: 756\n",
            "Processing index: 757\n",
            "Processing index: 758\n",
            "Processing index: 759\n",
            "Processing index: 760\n",
            "Processing index: 761\n",
            "Processing index: 762\n",
            "Processing index: 763\n",
            "Processing index: 764\n",
            "Processing index: 765\n",
            "Processing index: 766\n",
            "Processing index: 767\n",
            "Processing index: 768\n",
            "Processing index: 769\n",
            "Processing index: 770\n",
            "Processing index: 771\n",
            "Processing index: 772\n",
            "Processing index: 773\n",
            "Processing index: 774\n",
            "Processing index: 775\n",
            "Processing index: 776\n",
            "Processing index: 777\n",
            "Processing index: 778\n",
            "Processing index: 779\n",
            "Processing index: 780\n",
            "Processing index: 781\n",
            "Processing index: 782\n",
            "Processing index: 783\n",
            "Processing index: 784\n",
            "Processing index: 785\n",
            "Processing index: 786\n",
            "Processing index: 787\n",
            "Processing index: 788\n",
            "Processing index: 789\n",
            "Processing index: 790\n",
            "Processing index: 791\n",
            "Processing index: 792\n",
            "Processing index: 793\n",
            "Processing index: 794\n",
            "Processing index: 795\n",
            "Processing index: 796\n"
          ]
        },
        {
          "output_type": "stream",
          "name": "stderr",
          "text": [
            "ERROR: [youtube] -JwcLMulYoc: Private video. Sign in if you've been granted access to this video\n"
          ]
        },
        {
          "output_type": "stream",
          "name": "stdout",
          "text": [
            "Extractor Error: ERROR: [youtube] -JwcLMulYoc: Private video. Sign in if you've been granted access to this video\n",
            "Processing index: 797\n",
            "Processing index: 798\n",
            "Processing index: 799\n",
            "Processing index: 800\n",
            "Processing index: 801\n",
            "Processing index: 802\n",
            "Processing index: 803\n",
            "Processing index: 804\n",
            "Processing index: 805\n",
            "Processing index: 806\n",
            "Processing index: 807\n",
            "Processing index: 808\n",
            "Processing index: 809\n",
            "Processing index: 810\n",
            "Processing index: 811\n",
            "Processing index: 812\n",
            "Processing index: 813\n",
            "Processing index: 814\n"
          ]
        },
        {
          "output_type": "stream",
          "name": "stderr",
          "text": [
            "ERROR: [youtube] -KHIKaCGKBY: Private video. Sign in if you've been granted access to this video\n"
          ]
        },
        {
          "output_type": "stream",
          "name": "stdout",
          "text": [
            "Extractor Error: ERROR: [youtube] -KHIKaCGKBY: Private video. Sign in if you've been granted access to this video\n",
            "Processing index: 815\n",
            "Processing index: 816\n",
            "Processing index: 817\n",
            "Processing index: 818\n",
            "Processing index: 819\n",
            "Processing index: 820\n"
          ]
        },
        {
          "output_type": "stream",
          "name": "stderr",
          "text": [
            "ERROR: [youtube] -KPNrGuq6UY: Video unavailable. This video is no longer available because the YouTube account associated with this video has been terminated.\n"
          ]
        },
        {
          "output_type": "stream",
          "name": "stdout",
          "text": [
            "Extractor Error: ERROR: [youtube] -KPNrGuq6UY: Video unavailable. This video is no longer available because the YouTube account associated with this video has been terminated.\n",
            "Processing index: 821\n",
            "Processing index: 822\n",
            "Processing index: 823\n",
            "Processing index: 824\n",
            "Processing index: 825\n"
          ]
        },
        {
          "output_type": "stream",
          "name": "stderr",
          "text": [
            "ERROR: [youtube] -KSjQxE1QCk: Video unavailable\n"
          ]
        },
        {
          "output_type": "stream",
          "name": "stdout",
          "text": [
            "Extractor Error: ERROR: [youtube] -KSjQxE1QCk: Video unavailable\n",
            "Processing index: 826\n",
            "Processing index: 827\n",
            "Processing index: 828\n",
            "Processing index: 829\n",
            "Processing index: 830\n",
            "Processing index: 831\n",
            "Processing index: 832\n",
            "Processing index: 833\n",
            "Processing index: 834\n",
            "Processing index: 835\n",
            "Processing index: 836\n",
            "Processing index: 837\n",
            "Processing index: 838\n",
            "Processing index: 839\n",
            "Processing index: 840\n",
            "Processing index: 841\n",
            "Processing index: 842\n",
            "Processing index: 843\n",
            "Processing index: 844\n"
          ]
        },
        {
          "output_type": "stream",
          "name": "stderr",
          "text": [
            "ERROR: [youtube] -Ksa9zLMykA: Private video. Sign in if you've been granted access to this video\n"
          ]
        },
        {
          "output_type": "stream",
          "name": "stdout",
          "text": [
            "Extractor Error: ERROR: [youtube] -Ksa9zLMykA: Private video. Sign in if you've been granted access to this video\n",
            "Processing index: 845\n"
          ]
        },
        {
          "output_type": "stream",
          "name": "stderr",
          "text": [
            "ERROR: [youtube] -KtT7Q730Yg: Private video. Sign in if you've been granted access to this video\n"
          ]
        },
        {
          "output_type": "stream",
          "name": "stdout",
          "text": [
            "Extractor Error: ERROR: [youtube] -KtT7Q730Yg: Private video. Sign in if you've been granted access to this video\n",
            "Processing index: 846\n",
            "Processing index: 847\n",
            "Processing index: 848\n",
            "Processing index: 849\n",
            "Processing index: 850\n",
            "Processing index: 851\n",
            "Processing index: 852\n",
            "Processing index: 853\n",
            "Processing index: 854\n",
            "Processing index: 855\n",
            "Processing index: 856\n",
            "Processing index: 857\n",
            "Processing index: 858\n",
            "Processing index: 859\n",
            "Processing index: 860\n",
            "Processing index: 861\n",
            "Processing index: 862\n",
            "Processing index: 863\n",
            "Processing index: 864\n",
            "Processing index: 865\n",
            "Processing index: 866\n",
            "Processing index: 867\n",
            "Processing index: 868\n",
            "Processing index: 869\n",
            "Processing index: 870\n",
            "Processing index: 871\n",
            "Processing index: 872\n",
            "Processing index: 873\n",
            "Processing index: 874\n",
            "Processing index: 875\n",
            "Processing index: 876\n",
            "Processing index: 877\n",
            "Processing index: 878\n",
            "Processing index: 879\n",
            "Processing index: 880\n",
            "Processing index: 881\n",
            "Processing index: 882\n",
            "Processing index: 883\n",
            "Processing index: 884\n",
            "Processing index: 885\n",
            "Processing index: 886\n",
            "Processing index: 887\n",
            "Processing index: 888\n",
            "Processing index: 889\n",
            "Processing index: 890\n",
            "Processing index: 891\n",
            "Processing index: 892\n"
          ]
        },
        {
          "output_type": "stream",
          "name": "stderr",
          "text": [
            "ERROR: [youtube] -L_FS1uasMo: Video unavailable. This video is no longer available because the YouTube account associated with this video has been terminated.\n"
          ]
        },
        {
          "output_type": "stream",
          "name": "stdout",
          "text": [
            "Extractor Error: ERROR: [youtube] -L_FS1uasMo: Video unavailable. This video is no longer available because the YouTube account associated with this video has been terminated.\n",
            "Processing index: 893\n",
            "Processing index: 894\n",
            "Processing index: 895\n"
          ]
        },
        {
          "output_type": "stream",
          "name": "stderr",
          "text": [
            "ERROR: [youtube] -LbmsAhfpmk: Private video. Sign in if you've been granted access to this video\n"
          ]
        },
        {
          "output_type": "stream",
          "name": "stdout",
          "text": [
            "Extractor Error: ERROR: [youtube] -LbmsAhfpmk: Private video. Sign in if you've been granted access to this video\n",
            "Processing index: 896\n",
            "Processing index: 897\n",
            "Processing index: 898\n",
            "Processing index: 899\n",
            "Processing index: 900\n",
            "Processing index: 901\n",
            "Processing index: 902\n"
          ]
        },
        {
          "output_type": "stream",
          "name": "stderr",
          "text": [
            "ERROR: [youtube] -Lmz43iEHa4: Video unavailable. This video is no longer available because the YouTube account associated with this video has been terminated.\n"
          ]
        },
        {
          "output_type": "stream",
          "name": "stdout",
          "text": [
            "Extractor Error: ERROR: [youtube] -Lmz43iEHa4: Video unavailable. This video is no longer available because the YouTube account associated with this video has been terminated.\n",
            "Processing index: 903\n",
            "Processing index: 904\n",
            "Processing index: 905\n",
            "Processing index: 906\n",
            "Processing index: 907\n",
            "Processing index: 908\n",
            "Processing index: 909\n",
            "Processing index: 910\n",
            "Processing index: 911\n",
            "Processing index: 912\n",
            "Processing index: 913\n",
            "Processing index: 914\n",
            "Processing index: 915\n",
            "Processing index: 916\n",
            "Processing index: 917\n",
            "Processing index: 918\n",
            "Processing index: 919\n",
            "Processing index: 920\n",
            "Processing index: 921\n",
            "Processing index: 922\n",
            "Processing index: 923\n",
            "Processing index: 924\n"
          ]
        },
        {
          "output_type": "stream",
          "name": "stderr",
          "text": [
            "ERROR: [youtube] -MQMUIUkw0I: Private video. Sign in if you've been granted access to this video\n"
          ]
        },
        {
          "output_type": "stream",
          "name": "stdout",
          "text": [
            "Extractor Error: ERROR: [youtube] -MQMUIUkw0I: Private video. Sign in if you've been granted access to this video\n",
            "Processing index: 925\n",
            "Processing index: 926\n",
            "Processing index: 927\n",
            "Processing index: 928\n",
            "Processing index: 929\n",
            "Processing index: 930\n",
            "Processing index: 931\n",
            "Processing index: 932\n",
            "Processing index: 933\n",
            "Processing index: 934\n",
            "Processing index: 935\n",
            "Processing index: 936\n",
            "Processing index: 937\n",
            "Processing index: 938\n",
            "Processing index: 939\n",
            "Processing index: 940\n",
            "Processing index: 941\n",
            "Processing index: 942\n",
            "Processing index: 943\n",
            "Processing index: 944\n",
            "Processing index: 945\n",
            "Processing index: 946\n",
            "Processing index: 947\n",
            "Processing index: 948\n",
            "Processing index: 949\n",
            "Processing index: 950\n",
            "Processing index: 951\n",
            "Processing index: 952\n",
            "Processing index: 953\n",
            "Processing index: 954\n",
            "Processing index: 955\n",
            "Processing index: 956\n",
            "Processing index: 957\n",
            "Processing index: 958\n",
            "Processing index: 959\n",
            "Processing index: 960\n",
            "Processing index: 961\n",
            "Processing index: 962\n",
            "Processing index: 963\n",
            "Processing index: 964\n",
            "Processing index: 965\n",
            "Processing index: 966\n",
            "Processing index: 967\n",
            "Processing index: 968\n",
            "Processing index: 969\n",
            "Processing index: 970\n",
            "Processing index: 971\n",
            "Processing index: 972\n",
            "Processing index: 973\n",
            "Processing index: 974\n",
            "Processing index: 975\n",
            "Processing index: 976\n",
            "Processing index: 977\n",
            "Processing index: 978\n",
            "Processing index: 979\n",
            "Processing index: 980\n",
            "Processing index: 981\n",
            "Processing index: 982\n",
            "Processing index: 983\n",
            "Processing index: 984\n",
            "Processing index: 985\n",
            "Processing index: 986\n",
            "Processing index: 987\n",
            "Processing index: 988\n",
            "Processing index: 989\n",
            "Processing index: 990\n",
            "Processing index: 991\n",
            "Processing index: 992\n",
            "Processing index: 993\n",
            "Processing index: 994\n",
            "Processing index: 995\n",
            "Processing index: 996\n",
            "Processing index: 997\n"
          ]
        },
        {
          "output_type": "stream",
          "name": "stderr",
          "text": [
            "ERROR: [youtube] -NYvR9wYuNk: Video unavailable. This video is no longer available because the YouTube account associated with this video has been terminated.\n"
          ]
        },
        {
          "output_type": "stream",
          "name": "stdout",
          "text": [
            "Extractor Error: ERROR: [youtube] -NYvR9wYuNk: Video unavailable. This video is no longer available because the YouTube account associated with this video has been terminated.\n",
            "Processing index: 998\n",
            "Processing index: 999\n",
            "Processing index: 1000\n",
            "Processing index: 1001\n",
            "Processing index: 1002\n",
            "Processing index: 1003\n",
            "Processing index: 1004\n",
            "Processing index: 1005\n",
            "Processing index: 1006\n",
            "Processing index: 1007\n",
            "Processing index: 1008\n",
            "Processing index: 1009\n",
            "Processing index: 1010\n",
            "Processing index: 1011\n",
            "Processing index: 1012\n",
            "Processing index: 1013\n",
            "Processing index: 1014\n",
            "Processing index: 1015\n",
            "Processing index: 1016\n",
            "Processing index: 1017\n",
            "Processing index: 1018\n",
            "Processing index: 1019\n",
            "Processing index: 1020\n",
            "Processing index: 1021\n",
            "Processing index: 1022\n",
            "Processing index: 1023\n",
            "Processing index: 1024\n"
          ]
        },
        {
          "output_type": "stream",
          "name": "stderr",
          "text": [
            "ERROR: [youtube] -O3nQR_EvGQ: Private video. Sign in if you've been granted access to this video\n"
          ]
        },
        {
          "output_type": "stream",
          "name": "stdout",
          "text": [
            "Extractor Error: ERROR: [youtube] -O3nQR_EvGQ: Private video. Sign in if you've been granted access to this video\n",
            "Processing index: 1025\n",
            "Processing index: 1026\n",
            "Processing index: 1027\n",
            "Processing index: 1028\n",
            "Processing index: 1029\n",
            "Processing index: 1030\n",
            "Processing index: 1031\n",
            "Processing index: 1032\n",
            "Processing index: 1033\n",
            "Processing index: 1034\n",
            "Processing index: 1035\n",
            "Processing index: 1036\n",
            "Processing index: 1037\n",
            "Processing index: 1038\n",
            "Processing index: 1039\n"
          ]
        },
        {
          "output_type": "stream",
          "name": "stderr",
          "text": [
            "ERROR: [youtube] -OG3oX9peUU: Video unavailable. This video is no longer available because the YouTube account associated with this video has been terminated.\n"
          ]
        },
        {
          "output_type": "stream",
          "name": "stdout",
          "text": [
            "Extractor Error: ERROR: [youtube] -OG3oX9peUU: Video unavailable. This video is no longer available because the YouTube account associated with this video has been terminated.\n",
            "Processing index: 1040\n",
            "Processing index: 1041\n",
            "Processing index: 1042\n",
            "Processing index: 1043\n",
            "Processing index: 1044\n",
            "Processing index: 1045\n",
            "Processing index: 1046\n",
            "Processing index: 1047\n",
            "Processing index: 1048\n",
            "Processing index: 1049\n",
            "Processing index: 1050\n",
            "Processing index: 1051\n",
            "Processing index: 1052\n",
            "Processing index: 1053\n",
            "Processing index: 1054\n",
            "Processing index: 1055\n",
            "Processing index: 1056\n",
            "Processing index: 1057\n",
            "Processing index: 1058\n",
            "Processing index: 1059\n",
            "Processing index: 1060\n",
            "Processing index: 1061\n",
            "Processing index: 1062\n",
            "Processing index: 1063\n",
            "Processing index: 1064\n",
            "Processing index: 1065\n",
            "Processing index: 1066\n",
            "Processing index: 1067\n",
            "Processing index: 1068\n",
            "Processing index: 1069\n",
            "Processing index: 1070\n",
            "Processing index: 1071\n",
            "Processing index: 1072\n",
            "Processing index: 1073\n",
            "Processing index: 1074\n",
            "Processing index: 1075\n",
            "Processing index: 1076\n",
            "Processing index: 1077\n",
            "Processing index: 1078\n"
          ]
        },
        {
          "output_type": "stream",
          "name": "stderr",
          "text": [
            "ERROR: [youtube] -P25fJtNZUI: Private video. Sign in if you've been granted access to this video\n"
          ]
        },
        {
          "output_type": "stream",
          "name": "stdout",
          "text": [
            "Extractor Error: ERROR: [youtube] -P25fJtNZUI: Private video. Sign in if you've been granted access to this video\n",
            "Processing index: 1079\n",
            "Processing index: 1080\n",
            "Processing index: 1081\n",
            "Processing index: 1082\n",
            "Processing index: 1083\n",
            "Processing index: 1084\n",
            "Processing index: 1085\n",
            "Processing index: 1086\n",
            "Processing index: 1087\n",
            "Processing index: 1088\n",
            "Processing index: 1089\n",
            "Processing index: 1090\n",
            "Processing index: 1091\n"
          ]
        },
        {
          "output_type": "stream",
          "name": "stderr",
          "text": [
            "ERROR: [youtube] -PFm3Yfl1Js: Video unavailable. This video contains content from SME, who has blocked it in your country on copyright grounds\n"
          ]
        },
        {
          "output_type": "stream",
          "name": "stdout",
          "text": [
            "Extractor Error: ERROR: [youtube] -PFm3Yfl1Js: Video unavailable. This video contains content from SME, who has blocked it in your country on copyright grounds\n",
            "Processing index: 1092\n",
            "Processing index: 1093\n",
            "Processing index: 1094\n",
            "Processing index: 1095\n",
            "Processing index: 1096\n",
            "Processing index: 1097\n"
          ]
        },
        {
          "output_type": "stream",
          "name": "stderr",
          "text": [
            "ERROR: [youtube] -PLY-Bl2b4o: Video unavailable. This video contains content from International Olympic Committee, who has blocked it on copyright grounds\n"
          ]
        },
        {
          "output_type": "stream",
          "name": "stdout",
          "text": [
            "Extractor Error: ERROR: [youtube] -PLY-Bl2b4o: Video unavailable. This video contains content from International Olympic Committee, who has blocked it on copyright grounds\n",
            "Processing index: 1098\n",
            "Processing index: 1099\n"
          ]
        },
        {
          "output_type": "stream",
          "name": "stderr",
          "text": [
            "ERROR: [youtube] -PNcaCDLaFw: Private video. Sign in if you've been granted access to this video\n"
          ]
        },
        {
          "output_type": "stream",
          "name": "stdout",
          "text": [
            "Extractor Error: ERROR: [youtube] -PNcaCDLaFw: Private video. Sign in if you've been granted access to this video\n",
            "Processing index: 1100\n",
            "Processing index: 1101\n",
            "Processing index: 1102\n",
            "Processing index: 1103\n",
            "Processing index: 1104\n",
            "Processing index: 1105\n",
            "Processing index: 1106\n"
          ]
        },
        {
          "output_type": "stream",
          "name": "stderr",
          "text": [
            "ERROR: [youtube] -PY7nPHeVx8: This video has been removed for violating YouTube's Community Guidelines\n"
          ]
        },
        {
          "output_type": "stream",
          "name": "stdout",
          "text": [
            "Extractor Error: ERROR: [youtube] -PY7nPHeVx8: This video has been removed for violating YouTube's Community Guidelines\n",
            "Processing index: 1107\n",
            "Processing index: 1108\n",
            "Processing index: 1109\n",
            "Processing index: 1110\n",
            "Processing index: 1111\n",
            "Processing index: 1112\n",
            "Processing index: 1113\n",
            "Processing index: 1114\n"
          ]
        },
        {
          "output_type": "stream",
          "name": "stderr",
          "text": [
            "ERROR: [youtube] -PlgLnJOhnA: This video has been removed for violating YouTube's Terms of Service\n"
          ]
        },
        {
          "output_type": "stream",
          "name": "stdout",
          "text": [
            "Extractor Error: ERROR: [youtube] -PlgLnJOhnA: This video has been removed for violating YouTube's Terms of Service\n",
            "Processing index: 1115\n",
            "Processing index: 1116\n",
            "Processing index: 1117\n",
            "Processing index: 1118\n",
            "Processing index: 1119\n",
            "Processing index: 1120\n",
            "Processing index: 1121\n",
            "Processing index: 1122\n",
            "Processing index: 1123\n",
            "Processing index: 1124\n",
            "Processing index: 1125\n",
            "Processing index: 1126\n"
          ]
        },
        {
          "output_type": "stream",
          "name": "stderr",
          "text": [
            "ERROR: [youtube] -Q556CWYeHE: Video unavailable. This video is no longer available because the YouTube account associated with this video has been terminated.\n"
          ]
        },
        {
          "output_type": "stream",
          "name": "stdout",
          "text": [
            "Extractor Error: ERROR: [youtube] -Q556CWYeHE: Video unavailable. This video is no longer available because the YouTube account associated with this video has been terminated.\n",
            "Processing index: 1127\n",
            "Processing index: 1128\n"
          ]
        },
        {
          "output_type": "stream",
          "name": "stderr",
          "text": [
            "ERROR: [youtube] -Q78VJXH1ls: Private video. Sign in if you've been granted access to this video\n"
          ]
        },
        {
          "output_type": "stream",
          "name": "stdout",
          "text": [
            "Extractor Error: ERROR: [youtube] -Q78VJXH1ls: Private video. Sign in if you've been granted access to this video\n",
            "Processing index: 1129\n",
            "Processing index: 1130\n",
            "Processing index: 1131\n",
            "Processing index: 1132\n",
            "Processing index: 1133\n",
            "Processing index: 1134\n",
            "Processing index: 1135\n",
            "Processing index: 1136\n",
            "Processing index: 1137\n",
            "Processing index: 1138\n",
            "Processing index: 1139\n",
            "Processing index: 1140\n",
            "Processing index: 1141\n",
            "Processing index: 1142\n",
            "Processing index: 1143\n",
            "Processing index: 1144\n",
            "Processing index: 1145\n",
            "Processing index: 1146\n",
            "Processing index: 1147\n",
            "Processing index: 1148\n",
            "Processing index: 1149\n",
            "Processing index: 1150\n",
            "Processing index: 1151\n",
            "Processing index: 1152\n",
            "Processing index: 1153\n",
            "Processing index: 1154\n",
            "Processing index: 1155\n",
            "Processing index: 1156\n",
            "Processing index: 1157\n",
            "Processing index: 1158\n",
            "Processing index: 1159\n",
            "Processing index: 1160\n",
            "Processing index: 1161\n",
            "Processing index: 1162\n",
            "Processing index: 1163\n",
            "Processing index: 1164\n",
            "Processing index: 1165\n",
            "Processing index: 1166\n",
            "Processing index: 1167\n",
            "Processing index: 1168\n",
            "Processing index: 1169\n",
            "Processing index: 1170\n",
            "Processing index: 1171\n",
            "Processing index: 1172\n",
            "Processing index: 1173\n",
            "Processing index: 1174\n",
            "Processing index: 1175\n",
            "Processing index: 1176\n",
            "Processing index: 1177\n",
            "Processing index: 1178\n"
          ]
        },
        {
          "output_type": "stream",
          "name": "stderr",
          "text": [
            "ERROR: [youtube] -Qr58HymVsE: Private video. Sign in if you've been granted access to this video\n"
          ]
        },
        {
          "output_type": "stream",
          "name": "stdout",
          "text": [
            "Extractor Error: ERROR: [youtube] -Qr58HymVsE: Private video. Sign in if you've been granted access to this video\n",
            "Processing index: 1179\n",
            "Processing index: 1180\n",
            "Processing index: 1181\n",
            "Processing index: 1182\n",
            "Processing index: 1183\n",
            "Processing index: 1184\n",
            "Processing index: 1185\n",
            "Processing index: 1186\n",
            "Processing index: 1187\n",
            "Processing index: 1188\n",
            "Processing index: 1189\n",
            "Processing index: 1190\n",
            "Processing index: 1191\n",
            "Processing index: 1192\n",
            "Processing index: 1193\n",
            "Processing index: 1194\n",
            "Processing index: 1195\n",
            "Processing index: 1196\n"
          ]
        },
        {
          "output_type": "stream",
          "name": "stderr",
          "text": [
            "ERROR: [youtube] -R8Bk4an_TM: Private video. Sign in if you've been granted access to this video\n"
          ]
        },
        {
          "output_type": "stream",
          "name": "stdout",
          "text": [
            "Extractor Error: ERROR: [youtube] -R8Bk4an_TM: Private video. Sign in if you've been granted access to this video\n",
            "Processing index: 1197\n",
            "Processing index: 1198\n",
            "Processing index: 1199\n",
            "Processing index: 1200\n",
            "Processing index: 1201\n",
            "Processing index: 1202\n",
            "Processing index: 1203\n"
          ]
        },
        {
          "output_type": "stream",
          "name": "stderr",
          "text": [
            "ERROR: [youtube] -RFE2ooHlgM: Private video. Sign in if you've been granted access to this video\n"
          ]
        },
        {
          "output_type": "stream",
          "name": "stdout",
          "text": [
            "Extractor Error: ERROR: [youtube] -RFE2ooHlgM: Private video. Sign in if you've been granted access to this video\n",
            "Processing index: 1204\n",
            "Processing index: 1205\n"
          ]
        },
        {
          "output_type": "stream",
          "name": "stderr",
          "text": [
            "ERROR: [youtube] -RJiqilN2Ic: Video unavailable. This video is no longer available because the YouTube account associated with this video has been terminated.\n"
          ]
        },
        {
          "output_type": "stream",
          "name": "stdout",
          "text": [
            "Extractor Error: ERROR: [youtube] -RJiqilN2Ic: Video unavailable. This video is no longer available because the YouTube account associated with this video has been terminated.\n",
            "Processing index: 1206\n",
            "Processing index: 1207\n",
            "Processing index: 1208\n",
            "Processing index: 1209\n",
            "Processing index: 1210\n",
            "Processing index: 1211\n",
            "Processing index: 1212\n",
            "Processing index: 1213\n",
            "Processing index: 1214\n",
            "Processing index: 1215\n",
            "Processing index: 1216\n",
            "Processing index: 1217\n",
            "Processing index: 1218\n",
            "Processing index: 1219\n",
            "Processing index: 1220\n"
          ]
        },
        {
          "output_type": "stream",
          "name": "stderr",
          "text": [
            "ERROR: [youtube] -RZu0saT-50: Video unavailable. This video is unavailable\n"
          ]
        },
        {
          "output_type": "stream",
          "name": "stdout",
          "text": [
            "Extractor Error: ERROR: [youtube] -RZu0saT-50: Video unavailable. This video is unavailable\n",
            "Processing index: 1221\n"
          ]
        },
        {
          "output_type": "stream",
          "name": "stderr",
          "text": [
            "ERROR: [youtube] -RaSdJaGdYA: Private video. Sign in if you've been granted access to this video\n"
          ]
        },
        {
          "output_type": "stream",
          "name": "stdout",
          "text": [
            "Extractor Error: ERROR: [youtube] -RaSdJaGdYA: Private video. Sign in if you've been granted access to this video\n",
            "Processing index: 1222\n",
            "Processing index: 1223\n",
            "Processing index: 1224\n"
          ]
        },
        {
          "output_type": "stream",
          "name": "stderr",
          "text": [
            "ERROR: [youtube] -RdPsVc6psA: Video unavailable\n"
          ]
        },
        {
          "output_type": "stream",
          "name": "stdout",
          "text": [
            "Extractor Error: ERROR: [youtube] -RdPsVc6psA: Video unavailable\n",
            "Processing index: 1225\n",
            "Processing index: 1226\n",
            "Processing index: 1227\n",
            "Processing index: 1228\n",
            "Processing index: 1229\n",
            "Processing index: 1230\n",
            "Processing index: 1231\n"
          ]
        },
        {
          "output_type": "stream",
          "name": "stderr",
          "text": [
            "ERROR: [youtube] -RhSMyvSxQA: Video unavailable. This video is no longer available because the YouTube account associated with this video has been terminated.\n"
          ]
        },
        {
          "output_type": "stream",
          "name": "stdout",
          "text": [
            "Extractor Error: ERROR: [youtube] -RhSMyvSxQA: Video unavailable. This video is no longer available because the YouTube account associated with this video has been terminated.\n",
            "Processing index: 1232\n",
            "Processing index: 1233\n",
            "Processing index: 1234\n",
            "Processing index: 1235\n",
            "Processing index: 1236\n",
            "Processing index: 1237\n",
            "Processing index: 1238\n",
            "Processing index: 1239\n",
            "Processing index: 1240\n",
            "Processing index: 1241\n",
            "Processing index: 1242\n",
            "Processing index: 1243\n",
            "Processing index: 1244\n",
            "Processing index: 1245\n"
          ]
        },
        {
          "output_type": "stream",
          "name": "stderr",
          "text": [
            "ERROR: [youtube] -S3q1fQtVmY: Private video. Sign in if you've been granted access to this video\n"
          ]
        },
        {
          "output_type": "stream",
          "name": "stdout",
          "text": [
            "Extractor Error: ERROR: [youtube] -S3q1fQtVmY: Private video. Sign in if you've been granted access to this video\n",
            "Processing index: 1246\n",
            "Processing index: 1247\n",
            "Processing index: 1248\n",
            "Processing index: 1249\n",
            "Processing index: 1250\n",
            "Processing index: 1251\n",
            "Processing index: 1252\n",
            "Processing index: 1253\n",
            "Processing index: 1254\n",
            "Processing index: 1255\n"
          ]
        },
        {
          "output_type": "stream",
          "name": "stderr",
          "text": [
            "ERROR: [youtube] -SIJLK07FM0: Video unavailable. This video is no longer available because the YouTube account associated with this video has been terminated.\n"
          ]
        },
        {
          "output_type": "stream",
          "name": "stdout",
          "text": [
            "Extractor Error: ERROR: [youtube] -SIJLK07FM0: Video unavailable. This video is no longer available because the YouTube account associated with this video has been terminated.\n",
            "Processing index: 1256\n",
            "Processing index: 1257\n",
            "Processing index: 1258\n",
            "Processing index: 1259\n"
          ]
        },
        {
          "output_type": "stream",
          "name": "stderr",
          "text": [
            "ERROR: [youtube] -SPQRdR4MY4: Video unavailable. This video is no longer available because the YouTube account associated with this video has been terminated.\n"
          ]
        },
        {
          "output_type": "stream",
          "name": "stdout",
          "text": [
            "Extractor Error: ERROR: [youtube] -SPQRdR4MY4: Video unavailable. This video is no longer available because the YouTube account associated with this video has been terminated.\n",
            "Processing index: 1260\n",
            "Processing index: 1261\n",
            "Processing index: 1262\n",
            "Processing index: 1263\n"
          ]
        },
        {
          "output_type": "stream",
          "name": "stderr",
          "text": [
            "ERROR: [youtube] -SWG69JZ_vk: Private video. Sign in if you've been granted access to this video\n"
          ]
        },
        {
          "output_type": "stream",
          "name": "stdout",
          "text": [
            "Extractor Error: ERROR: [youtube] -SWG69JZ_vk: Private video. Sign in if you've been granted access to this video\n",
            "Processing index: 1264\n",
            "Processing index: 1265\n",
            "Processing index: 1266\n",
            "Processing index: 1267\n",
            "Processing index: 1268\n",
            "Processing index: 1269\n",
            "Processing index: 1270\n",
            "Processing index: 1271\n",
            "Processing index: 1272\n",
            "Processing index: 1273\n",
            "Processing index: 1274\n",
            "Processing index: 1275\n",
            "Processing index: 1276\n",
            "Processing index: 1277\n",
            "Processing index: 1278\n",
            "Processing index: 1279\n",
            "Processing index: 1280\n",
            "Processing index: 1281\n",
            "Processing index: 1282\n",
            "Processing index: 1283\n",
            "Processing index: 1284\n",
            "Processing index: 1285\n",
            "Processing index: 1286\n",
            "Processing index: 1287\n"
          ]
        },
        {
          "output_type": "stream",
          "name": "stderr",
          "text": [
            "ERROR: [youtube] -T9sKB7WtxU: Video unavailable\n"
          ]
        },
        {
          "output_type": "stream",
          "name": "stdout",
          "text": [
            "Processing index: 1288\n",
            "Extractor Error: ERROR: [youtube] -T9sKB7WtxU: Video unavailable\n",
            "Processing index: 1289\n",
            "Processing index: 1290\n",
            "Processing index: 1291\n",
            "Processing index: 1292\n",
            "Processing index: 1293\n",
            "Processing index: 1294\n",
            "Processing index: 1295\n",
            "Processing index: 1296\n",
            "Processing index: 1297\n",
            "Processing index: 1298\n",
            "Processing index: 1299\n",
            "Processing index: 1300\n",
            "Processing index: 1301\n",
            "Processing index: 1302\n",
            "Processing index: 1303\n"
          ]
        },
        {
          "output_type": "stream",
          "name": "stderr",
          "text": [
            "ERROR: [youtube] -TJliuI2obY: Video unavailable. This video is no longer available because the YouTube account associated with this video has been terminated.\n"
          ]
        },
        {
          "output_type": "stream",
          "name": "stdout",
          "text": [
            "Extractor Error: ERROR: [youtube] -TJliuI2obY: Video unavailable. This video is no longer available because the YouTube account associated with this video has been terminated.\n",
            "Processing index: 1304\n",
            "Processing index: 1305\n",
            "Processing index: 1306\n",
            "Processing index: 1307\n",
            "Processing index: 1308\n",
            "Processing index: 1309\n",
            "Processing index: 1310\n",
            "Processing index: 1311\n",
            "Processing index: 1312\n",
            "Processing index: 1313\n"
          ]
        },
        {
          "output_type": "stream",
          "name": "stderr",
          "text": [
            "ERROR: [youtube] -TTSwfAriM4: Private video. Sign in if you've been granted access to this video\n"
          ]
        },
        {
          "output_type": "stream",
          "name": "stdout",
          "text": [
            "Extractor Error: ERROR: [youtube] -TTSwfAriM4: Private video. Sign in if you've been granted access to this video\n",
            "Processing index: 1314\n",
            "Processing index: 1315\n",
            "Processing index: 1316\n",
            "Processing index: 1317\n",
            "Processing index: 1318\n",
            "Processing index: 1319\n"
          ]
        },
        {
          "output_type": "stream",
          "name": "stderr",
          "text": [
            "ERROR: [youtube] -TmDgLoJDdw: Private video. Sign in if you've been granted access to this video\n"
          ]
        },
        {
          "output_type": "stream",
          "name": "stdout",
          "text": [
            "Extractor Error: ERROR: [youtube] -TmDgLoJDdw: Private video. Sign in if you've been granted access to this video\n",
            "Processing index: 1320\n",
            "Processing index: 1321\n",
            "Processing index: 1322\n",
            "Processing index: 1323\n",
            "Processing index: 1324\n",
            "Processing index: 1325\n",
            "Processing index: 1326\n",
            "Processing index: 1327\n",
            "Processing index: 1328\n",
            "Processing index: 1329\n",
            "Processing index: 1330\n",
            "Processing index: 1331\n",
            "Processing index: 1332\n",
            "Processing index: 1333\n",
            "Processing index: 1334\n",
            "Processing index: 1335\n",
            "Processing index: 1336\n",
            "Processing index: 1337\n",
            "Processing index: 1338\n",
            "Processing index: 1339\n",
            "Processing index: 1340\n",
            "Processing index: 1341\n",
            "Processing index: 1342\n"
          ]
        },
        {
          "output_type": "stream",
          "name": "stderr",
          "text": [
            "ERROR: [youtube] -UIei6eyzuk: Private video. Sign in if you've been granted access to this video\n"
          ]
        },
        {
          "output_type": "stream",
          "name": "stdout",
          "text": [
            "Extractor Error: ERROR: [youtube] -UIei6eyzuk: Private video. Sign in if you've been granted access to this video\n",
            "Processing index: 1343\n",
            "Processing index: 1344\n",
            "Processing index: 1345\n",
            "Processing index: 1346\n",
            "Processing index: 1347\n",
            "Processing index: 1348\n",
            "Processing index: 1349\n",
            "Processing index: 1350\n",
            "Processing index: 1351\n",
            "Processing index: 1352\n",
            "Processing index: 1353\n",
            "Processing index: 1354\n",
            "Processing index: 1355\n",
            "Processing index: 1356\n",
            "Processing index: 1357\n",
            "Processing index: 1358\n",
            "Processing index: 1359\n"
          ]
        },
        {
          "output_type": "stream",
          "name": "stderr",
          "text": [
            "ERROR: [youtube] -UoYdJyym84: Video unavailable. This video is no longer available because the YouTube account associated with this video has been terminated.\n"
          ]
        },
        {
          "output_type": "stream",
          "name": "stdout",
          "text": [
            "Extractor Error: ERROR: [youtube] -UoYdJyym84: Video unavailable. This video is no longer available because the YouTube account associated with this video has been terminated.\n",
            "Processing index: 1360\n",
            "Processing index: 1361\n",
            "Processing index: 1362\n",
            "Processing index: 1363\n",
            "Processing index: 1364\n",
            "Processing index: 1365\n",
            "Processing index: 1366\n"
          ]
        },
        {
          "output_type": "stream",
          "name": "stderr",
          "text": [
            "ERROR: [youtube] -V-mROa0TzQ: Private video. Sign in if you've been granted access to this video\n"
          ]
        },
        {
          "output_type": "stream",
          "name": "stdout",
          "text": [
            "Extractor Error: ERROR: [youtube] -V-mROa0TzQ: Private video. Sign in if you've been granted access to this video\n",
            "Processing index: 1367\n",
            "Processing index: 1368\n",
            "Processing index: 1369\n",
            "Processing index: 1370\n",
            "Processing index: 1371\n",
            "Processing index: 1372\n",
            "Processing index: 1373\n",
            "Processing index: 1374\n",
            "Processing index: 1375\n",
            "Processing index: 1376\n",
            "Processing index: 1377\n"
          ]
        },
        {
          "output_type": "stream",
          "name": "stderr",
          "text": [
            "ERROR: [youtube] -VLYS339Eis: This video has been removed for violating YouTube's policy on harassment and bullying\n"
          ]
        },
        {
          "output_type": "stream",
          "name": "stdout",
          "text": [
            "Extractor Error: ERROR: [youtube] -VLYS339Eis: This video has been removed for violating YouTube's policy on harassment and bullying\n",
            "Processing index: 1378\n",
            "Processing index: 1379\n",
            "Processing index: 1380\n"
          ]
        },
        {
          "output_type": "stream",
          "name": "stderr",
          "text": [
            "ERROR: [youtube] -VOVRnLZVak: Video unavailable. This video is no longer available because the YouTube account associated with this video has been terminated.\n"
          ]
        },
        {
          "output_type": "stream",
          "name": "stdout",
          "text": [
            "Extractor Error: ERROR: [youtube] -VOVRnLZVak: Video unavailable. This video is no longer available because the YouTube account associated with this video has been terminated.\n",
            "Processing index: 1381\n",
            "Processing index: 1382\n",
            "Processing index: 1383\n",
            "Processing index: 1384\n",
            "Processing index: 1385\n",
            "Processing index: 1386\n",
            "Processing index: 1387\n",
            "Processing index: 1388\n",
            "Processing index: 1389\n",
            "Processing index: 1390\n",
            "Processing index: 1391\n",
            "Processing index: 1392\n",
            "Processing index: 1393\n",
            "Processing index: 1394\n",
            "Processing index: 1395\n",
            "Processing index: 1396\n",
            "Processing index: 1397\n",
            "Processing index: 1398\n",
            "Processing index: 1399\n",
            "Processing index: 1400\n",
            "Processing index: 1401\n",
            "Processing index: 1402\n",
            "Processing index: 1403\n",
            "Processing index: 1404\n",
            "Processing index: 1405\n",
            "Processing index: 1406\n",
            "Processing index: 1407\n"
          ]
        },
        {
          "output_type": "stream",
          "name": "stderr",
          "text": [
            "ERROR: [youtube] -W-DAzcFlfc: Video unavailable. This video is no longer available because the YouTube account associated with this video has been terminated.\n"
          ]
        },
        {
          "output_type": "stream",
          "name": "stdout",
          "text": [
            "Extractor Error: ERROR: [youtube] -W-DAzcFlfc: Video unavailable. This video is no longer available because the YouTube account associated with this video has been terminated.\n",
            "Processing index: 1408\n",
            "Processing index: 1409\n",
            "Processing index: 1410\n",
            "Processing index: 1411\n",
            "Processing index: 1412\n",
            "Processing index: 1413\n",
            "Processing index: 1414\n",
            "Processing index: 1415\n",
            "Processing index: 1416\n"
          ]
        },
        {
          "output_type": "stream",
          "name": "stderr",
          "text": [
            "ERROR: [youtube] -W2F4DK1t2s: Private video. Sign in if you've been granted access to this video\n"
          ]
        },
        {
          "output_type": "stream",
          "name": "stdout",
          "text": [
            "Extractor Error: ERROR: [youtube] -W2F4DK1t2s: Private video. Sign in if you've been granted access to this video\n",
            "Processing index: 1417\n",
            "Processing index: 1418\n"
          ]
        },
        {
          "output_type": "stream",
          "name": "stderr",
          "text": [
            "ERROR: [youtube] -W53pl92itE: Private video. Sign in if you've been granted access to this video\n"
          ]
        },
        {
          "output_type": "stream",
          "name": "stdout",
          "text": [
            "Extractor Error: ERROR: [youtube] -W53pl92itE: Private video. Sign in if you've been granted access to this video\n",
            "Processing index: 1419\n",
            "Processing index: 1420\n",
            "Processing index: 1421\n",
            "Processing index: 1422\n",
            "Processing index: 1423\n",
            "Processing index: 1424\n",
            "Processing index: 1425\n",
            "Processing index: 1426\n",
            "Processing index: 1427\n",
            "Processing index: 1428\n",
            "Processing index: 1429\n",
            "Processing index: 1430\n",
            "Processing index: 1431\n",
            "Processing index: 1432\n",
            "Processing index: 1433\n",
            "Processing index: 1434\n",
            "Processing index: 1435\n",
            "Processing index: 1436\n",
            "Processing index: 1437\n",
            "Processing index: 1438\n",
            "Processing index: 1439\n",
            "Processing index: 1440\n",
            "Processing index: 1441\n",
            "Processing index: 1442\n",
            "Processing index: 1443\n",
            "Processing index: 1444\n",
            "Processing index: 1445\n",
            "Processing index: 1446\n",
            "Processing index: 1447\n",
            "Processing index: 1448\n",
            "Processing index: 1449\n",
            "Processing index: 1450\n",
            "Processing index: 1451\n",
            "Processing index: 1452\n",
            "Processing index: 1453\n"
          ]
        },
        {
          "output_type": "stream",
          "name": "stderr",
          "text": [
            "ERROR: [youtube] -WrKlvp_x_0: Private video. Sign in if you've been granted access to this video\n"
          ]
        },
        {
          "output_type": "stream",
          "name": "stdout",
          "text": [
            "Extractor Error: ERROR: [youtube] -WrKlvp_x_0: Private video. Sign in if you've been granted access to this video\n",
            "Processing index: 1454\n",
            "Processing index: 1455\n"
          ]
        },
        {
          "output_type": "stream",
          "name": "stderr",
          "text": [
            "ERROR: [youtube] -Wskln4JY8s: Private video. Sign in if you've been granted access to this video\n"
          ]
        },
        {
          "output_type": "stream",
          "name": "stdout",
          "text": [
            "Extractor Error: ERROR: [youtube] -Wskln4JY8s: Private video. Sign in if you've been granted access to this video\n",
            "Processing index: 1456\n",
            "Processing index: 1457\n",
            "Processing index: 1458\n",
            "Processing index: 1459\n",
            "Processing index: 1460\n",
            "Processing index: 1461\n",
            "Processing index: 1462\n",
            "Processing index: 1463\n",
            "Processing index: 1464\n"
          ]
        },
        {
          "output_type": "stream",
          "name": "stderr",
          "text": [
            "ERROR: [youtube] -WyWLsZGqgo: Private video. Sign in if you've been granted access to this video\n"
          ]
        },
        {
          "output_type": "stream",
          "name": "stdout",
          "text": [
            "Extractor Error: ERROR: [youtube] -WyWLsZGqgo: Private video. Sign in if you've been granted access to this video\n",
            "Processing index: 1465\n",
            "Processing index: 1466\n",
            "Processing index: 1467\n",
            "Processing index: 1468\n",
            "Processing index: 1469\n",
            "Processing index: 1470\n",
            "Processing index: 1471\n",
            "Processing index: 1472\n",
            "Processing index: 1473\n",
            "Processing index: 1474\n",
            "Processing index: 1475\n",
            "Processing index: 1476\n",
            "Processing index: 1477\n",
            "Processing index: 1478\n",
            "Processing index: 1479\n",
            "Processing index: 1480\n",
            "Processing index: 1481\n",
            "Processing index: 1482\n",
            "Processing index: 1483\n",
            "Processing index: 1484\n",
            "Processing index: 1485\n",
            "Processing index: 1486\n",
            "Processing index: 1487\n",
            "Processing index: 1488\n",
            "Processing index: 1489\n",
            "Processing index: 1490\n",
            "Processing index: 1491\n",
            "Processing index: 1492\n",
            "Processing index: 1493\n",
            "Processing index: 1494\n",
            "Processing index: 1495\n",
            "Processing index: 1496\n",
            "Processing index: 1497\n",
            "Processing index: 1498\n",
            "Processing index: 1499\n",
            "Processing index: 1500\n",
            "Processing index: 1501\n",
            "Processing index: 1502\n",
            "Processing index: 1503\n",
            "Processing index: 1504\n"
          ]
        },
        {
          "output_type": "stream",
          "name": "stderr",
          "text": [
            "ERROR: [youtube] -XlLk8fmJkM: This video has been removed for violating YouTube's Community Guidelines\n"
          ]
        },
        {
          "output_type": "stream",
          "name": "stdout",
          "text": [
            "Extractor Error: ERROR: [youtube] -XlLk8fmJkM: This video has been removed for violating YouTube's Community Guidelines\n",
            "Processing index: 1505\n",
            "Processing index: 1506\n",
            "Processing index: 1507\n",
            "Processing index: 1508\n"
          ]
        },
        {
          "output_type": "stream",
          "name": "stderr",
          "text": [
            "ERROR: [youtube] -XmBkxUhfMQ: Private video. Sign in if you've been granted access to this video\n"
          ]
        },
        {
          "output_type": "stream",
          "name": "stdout",
          "text": [
            "Extractor Error: ERROR: [youtube] -XmBkxUhfMQ: Private video. Sign in if you've been granted access to this video\n",
            "Processing index: 1509\n",
            "Processing index: 1510\n"
          ]
        },
        {
          "output_type": "stream",
          "name": "stderr",
          "text": [
            "ERROR: [youtube] -XoRyRfUtaU: Private video. Sign in if you've been granted access to this video\n"
          ]
        },
        {
          "output_type": "stream",
          "name": "stdout",
          "text": [
            "Extractor Error: ERROR: [youtube] -XoRyRfUtaU: Private video. Sign in if you've been granted access to this video\n",
            "Processing index: 1511\n",
            "Processing index: 1512\n",
            "Processing index: 1513\n",
            "Processing index: 1514\n",
            "Processing index: 1515\n",
            "Processing index: 1516\n",
            "Processing index: 1517\n",
            "Processing index: 1518\n",
            "Processing index: 1519\n",
            "Processing index: 1520\n",
            "Processing index: 1521\n",
            "Processing index: 1522\n",
            "Processing index: 1523\n",
            "Processing index: 1524\n",
            "Processing index: 1525\n",
            "Processing index: 1526\n",
            "Processing index: 1527\n",
            "Processing index: 1528\n",
            "Processing index: 1529\n",
            "Processing index: 1530\n",
            "Processing index: 1531\n",
            "Processing index: 1532\n",
            "Processing index: 1533\n"
          ]
        },
        {
          "output_type": "stream",
          "name": "stderr",
          "text": [
            "ERROR: [youtube] -YM-YVy0Q-E: Private video. Sign in if you've been granted access to this video\n"
          ]
        },
        {
          "output_type": "stream",
          "name": "stdout",
          "text": [
            "Extractor Error: ERROR: [youtube] -YM-YVy0Q-E: Private video. Sign in if you've been granted access to this video\n",
            "Processing index: 1534\n",
            "Processing index: 1535\n",
            "Processing index: 1536\n",
            "Processing index: 1537\n",
            "Processing index: 1538\n",
            "Processing index: 1539\n"
          ]
        },
        {
          "output_type": "stream",
          "name": "stderr",
          "text": [
            "ERROR: [youtube] -YRNnILulyI: Private video. Sign in if you've been granted access to this video\n"
          ]
        },
        {
          "output_type": "stream",
          "name": "stdout",
          "text": [
            "Extractor Error: ERROR: [youtube] -YRNnILulyI: Private video. Sign in if you've been granted access to this video\n",
            "Processing index: 1540\n",
            "Processing index: 1541\n",
            "Processing index: 1542\n",
            "Processing index: 1543\n",
            "Processing index: 1544\n",
            "Processing index: 1545\n",
            "Processing index: 1546\n",
            "Processing index: 1547\n",
            "Processing index: 1548\n",
            "Processing index: 1549\n",
            "Processing index: 1550\n",
            "Processing index: 1551\n",
            "Processing index: 1552\n",
            "Processing index: 1553\n",
            "Processing index: 1554\n",
            "Processing index: 1555\n",
            "Processing index: 1556\n",
            "Processing index: 1557\n",
            "Processing index: 1558\n",
            "Processing index: 1559\n"
          ]
        },
        {
          "output_type": "stream",
          "name": "stderr",
          "text": [
            "ERROR: [youtube] -YtMJtz0C0Y: Video unavailable. This video is no longer available because the YouTube account associated with this video has been terminated.\n"
          ]
        },
        {
          "output_type": "stream",
          "name": "stdout",
          "text": [
            "Extractor Error: ERROR: [youtube] -YtMJtz0C0Y: Video unavailable. This video is no longer available because the YouTube account associated with this video has been terminated.\n",
            "Processing index: 1560\n",
            "Processing index: 1561\n",
            "Processing index: 1562\n"
          ]
        },
        {
          "output_type": "stream",
          "name": "stderr",
          "text": [
            "ERROR: [youtube] -Z-KvgyNArU: Private video. Sign in if you've been granted access to this video\n"
          ]
        },
        {
          "output_type": "stream",
          "name": "stdout",
          "text": [
            "Extractor Error: ERROR: [youtube] -Z-KvgyNArU: Private video. Sign in if you've been granted access to this video\n",
            "Processing index: 1563\n",
            "Processing index: 1564\n",
            "Processing index: 1565\n",
            "Processing index: 1566\n",
            "Processing index: 1567\n",
            "Processing index: 1568\n",
            "Processing index: 1569\n",
            "Processing index: 1570\n",
            "Processing index: 1571\n",
            "Processing index: 1572\n",
            "Processing index: 1573\n",
            "Processing index: 1574\n"
          ]
        },
        {
          "output_type": "stream",
          "name": "stderr",
          "text": [
            "ERROR: [youtube] -ZEFTYa0ViE: Private video. Sign in if you've been granted access to this video\n"
          ]
        },
        {
          "output_type": "stream",
          "name": "stdout",
          "text": [
            "Extractor Error: ERROR: [youtube] -ZEFTYa0ViE: Private video. Sign in if you've been granted access to this video\n",
            "Processing index: 1575\n",
            "Processing index: 1576\n",
            "Processing index: 1577\n",
            "Processing index: 1578\n",
            "Processing index: 1579\n"
          ]
        },
        {
          "output_type": "stream",
          "name": "stderr",
          "text": [
            "ERROR: [youtube] -ZFww1qGkJs: Private video. Sign in if you've been granted access to this video\n"
          ]
        },
        {
          "output_type": "stream",
          "name": "stdout",
          "text": [
            "Extractor Error: ERROR: [youtube] -ZFww1qGkJs: Private video. Sign in if you've been granted access to this video\n",
            "Processing index: 1580\n",
            "Processing index: 1581\n",
            "Processing index: 1582\n",
            "Processing index: 1583\n",
            "Processing index: 1584\n",
            "Processing index: 1585\n",
            "Processing index: 1586\n",
            "Processing index: 1587\n",
            "Processing index: 1588\n",
            "Processing index: 1589\n",
            "Processing index: 1590\n",
            "Processing index: 1591\n",
            "Processing index: 1592\n",
            "Processing index: 1593\n",
            "Processing index: 1594\n",
            "Processing index: 1595\n",
            "Processing index: 1596\n"
          ]
        },
        {
          "output_type": "stream",
          "name": "stderr",
          "text": [
            "ERROR: [youtube] -Zbyct6kC_U: This video has been removed for violating YouTube's Community Guidelines\n"
          ]
        },
        {
          "output_type": "stream",
          "name": "stdout",
          "text": [
            "Extractor Error: ERROR: [youtube] -Zbyct6kC_U: This video has been removed for violating YouTube's Community Guidelines\n",
            "Processing index: 1597\n",
            "Processing index: 1598\n",
            "Processing index: 1599\n"
          ]
        },
        {
          "output_type": "stream",
          "name": "stderr",
          "text": [
            "ERROR: [youtube] -Zedueym2Fo: Private video. Sign in if you've been granted access to this video\n"
          ]
        },
        {
          "output_type": "stream",
          "name": "stdout",
          "text": [
            "Extractor Error: ERROR: [youtube] -Zedueym2Fo: Private video. Sign in if you've been granted access to this video\n",
            "Processing index: 1600\n",
            "Processing index: 1601\n",
            "Processing index: 1602\n",
            "Processing index: 1603\n",
            "Processing index: 1604\n",
            "Processing index: 1605\n",
            "Processing index: 1606\n",
            "Processing index: 1607\n",
            "Processing index: 1608\n",
            "Processing index: 1609\n",
            "Processing index: 1610\n",
            "Processing index: 1611\n",
            "Processing index: 1612\n"
          ]
        },
        {
          "output_type": "stream",
          "name": "stderr",
          "text": [
            "ERROR: [youtube] -ZwjVaXoHt4: Private video. Sign in if you've been granted access to this video\n"
          ]
        },
        {
          "output_type": "stream",
          "name": "stdout",
          "text": [
            "Extractor Error: ERROR: [youtube] -ZwjVaXoHt4: Private video. Sign in if you've been granted access to this video\n",
            "Processing index: 1613\n",
            "Processing index: 1614\n",
            "Processing index: 1615\n",
            "Processing index: 1616\n",
            "Processing index: 1617\n",
            "Processing index: 1618\n",
            "Processing index: 1619\n",
            "Processing index: 1620\n",
            "Processing index: 1621\n",
            "Processing index: 1622\n",
            "Processing index: 1623\n"
          ]
        },
        {
          "output_type": "stream",
          "name": "stderr",
          "text": [
            "ERROR: [youtube] -_Hhe9Sq9kk: Private video. Sign in if you've been granted access to this video\n"
          ]
        },
        {
          "output_type": "stream",
          "name": "stdout",
          "text": [
            "Extractor Error: ERROR: [youtube] -_Hhe9Sq9kk: Private video. Sign in if you've been granted access to this video\n",
            "Processing index: 1624\n"
          ]
        },
        {
          "output_type": "stream",
          "name": "stderr",
          "text": [
            "ERROR: [youtube] -_Jxkbje5sI: This video has been removed for violating YouTube's Community Guidelines\n"
          ]
        },
        {
          "output_type": "stream",
          "name": "stdout",
          "text": [
            "Extractor Error: ERROR: [youtube] -_Jxkbje5sI: This video has been removed for violating YouTube's Community Guidelines\n",
            "Processing index: 1625\n",
            "Processing index: 1626\n",
            "Processing index: 1627\n",
            "Processing index: 1628\n",
            "Processing index: 1629\n"
          ]
        },
        {
          "output_type": "stream",
          "name": "stderr",
          "text": [
            "ERROR: [youtube] -_Rkkl9E2eI: Private video. Sign in if you've been granted access to this video\n"
          ]
        },
        {
          "output_type": "stream",
          "name": "stdout",
          "text": [
            "Extractor Error: ERROR: [youtube] -_Rkkl9E2eI: Private video. Sign in if you've been granted access to this video\n",
            "Processing index: 1630\n",
            "Processing index: 1631\n",
            "Processing index: 1632\n",
            "Processing index: 1633\n",
            "Processing index: 1634\n",
            "Processing index: 1635\n",
            "Processing index: 1636\n",
            "Processing index: 1637\n",
            "Processing index: 1638\n",
            "Processing index: 1639\n",
            "Processing index: 1640\n"
          ]
        },
        {
          "output_type": "stream",
          "name": "stderr",
          "text": [
            "ERROR: [youtube] -_ilebHA71w: Private video. Sign in if you've been granted access to this video\n"
          ]
        },
        {
          "output_type": "stream",
          "name": "stdout",
          "text": [
            "Extractor Error: ERROR: [youtube] -_ilebHA71w: Private video. Sign in if you've been granted access to this video\n",
            "Processing index: 1641\n",
            "Processing index: 1642\n"
          ]
        },
        {
          "output_type": "stream",
          "name": "stderr",
          "text": [
            "ERROR: [youtube] -_kGjXO7bg4: Private video. Sign in if you've been granted access to this video\n"
          ]
        },
        {
          "output_type": "stream",
          "name": "stdout",
          "text": [
            "Extractor Error: ERROR: [youtube] -_kGjXO7bg4: Private video. Sign in if you've been granted access to this video\n",
            "Processing index: 1643\n",
            "Processing index: 1644\n",
            "Processing index: 1645\n",
            "Processing index: 1646\n",
            "Processing index: 1647\n",
            "Processing index: 1648\n",
            "Processing index: 1649\n",
            "Processing index: 1650\n"
          ]
        },
        {
          "output_type": "stream",
          "name": "stderr",
          "text": [
            "ERROR: [youtube] -_sZfHi_G7c: Private video. Sign in if you've been granted access to this video\n"
          ]
        },
        {
          "output_type": "stream",
          "name": "stdout",
          "text": [
            "Extractor Error: ERROR: [youtube] -_sZfHi_G7c: Private video. Sign in if you've been granted access to this video\n",
            "Processing index: 1651\n",
            "Processing index: 1652\n",
            "Processing index: 1653\n"
          ]
        }
      ]
    }
  ]
}